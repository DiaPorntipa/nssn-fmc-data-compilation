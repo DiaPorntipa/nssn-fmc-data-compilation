{
 "cells": [
  {
   "cell_type": "markdown",
   "metadata": {
    "id": "JirGiJsZrJey"
   },
   "source": [
    "# Start\n",
    "\n",
    "This script prepares vapor pressure deficit (VPD) data from BARRA2 and matches it with VPD from field observations for subsequent analysis.\n",
    "\n",
    "📄 **What this script does**\n",
    "1. Loads cleaned field data with topography — for example, output from `Nick_phd_data_complilation.ipynb`.\n",
    "2. Downloads and explores **BARRA2 data** (`tas` for temperature and `hurs` for relative humidity) for the grid cells closest to the field sites, spanning from the first to the last month of the field observations.\n",
    "3. Matches BARRA2 temperature and RH values to the field observations based on the nearest grid cell and UTC timestamp.\n",
    "4. Calculates **VPD** (vapor pressure deficit) from the matched BARRA2 temperature and RH.\n",
    "5. Saves the combined field and BARRA2 data as `barra2.csv` in the `output/csv` folder.\n",
    "\n",
    "⚠️ **Important notes**\n",
    "* Before running the script, set all variables in the **first cell**, and delete the **second cell** if not using a Google Colab environment.  \n",
    "  *(The script was developed for use in Google Colab and has not been tested outside of it.)*\n",
    "* The field data timestamps must be in **Australian local time**. The script will convert them to **UTC** before matching with BARRA2 data.\n",
    "* BARRA2's temperature and RH are **instantaneous** readings.\n",
    "* Field observations with **ambiguous timestamps** (e.g., during the daylight saving transition from AEDT to AEST) will be **excluded** from the output.\n",
    "\n",
    "\n"
   ]
  },
  {
   "cell_type": "code",
   "execution_count": null,
   "metadata": {
    "id": "kGkmuT6BVk2I"
   },
   "outputs": [],
   "source": [
    "colab = False\n",
    "input_file_name = 'in-situ_topography_phd.csv'\n",
    "output_file_name = 'barra2_vpd_phd.csv'\n",
    "\n",
    "download_barra2_data = False  # around 30 min in Colab\n",
    "explore_barra2_data = False"
   ]
  },
  {
   "cell_type": "code",
   "execution_count": null,
   "metadata": {},
   "outputs": [],
   "source": [
    "# Setting the main working directory\n",
    "\n",
    "if colab:\n",
    "    working_dir = \"/content/drive/My Drive/Work/2025.04 ANU Bushfire\"\n",
    "    from google.colab import drive\n",
    "    drive.mount('/content/drive')\n",
    "else:\n",
    "    working_dir = \"..\"\n",
    "    import sys\n",
    "    sys.path.append('..')"
   ]
  },
  {
   "cell_type": "markdown",
   "metadata": {
    "id": "B0X0qz24QRle"
   },
   "source": [
    "# Loading in-situ and remote data\n"
   ]
  },
  {
   "cell_type": "code",
   "execution_count": null,
   "metadata": {
    "colab": {
     "base_uri": "https://localhost:8080/",
     "height": 223
    },
    "id": "5lu9eKTyTW92",
    "outputId": "b345e0ef-7eaf-4770-b2ac-71b5901b5a65"
   },
   "outputs": [],
   "source": [
    "# Load in-situ_topography.csv as the main df\n",
    "\n",
    "import pandas as pd\n",
    "import os\n",
    "\n",
    "df = pd.read_csv(os.path.join(working_dir, \"output\", \"csv\", input_file_name))\n",
    "df['Datetime'] = pd.to_datetime(df['Datetime'])\n",
    "\n",
    "first_datetime, last_datetime = min(df['Datetime']), (max(df['Datetime']) + pd.Timedelta(days=1))\n",
    "print(\"First date: \", first_datetime.strftime(\"%Y%m%d\"), \", last date: \", last_datetime.strftime(\"%Y%m%d\"))\n",
    "\n",
    "df.head()"
   ]
  },
  {
   "cell_type": "markdown",
   "metadata": {
    "id": "0IB-IrwJcC3w"
   },
   "source": [
    "## Downloading BARRA2 data"
   ]
  },
  {
   "cell_type": "code",
   "execution_count": null,
   "metadata": {
    "colab": {
     "base_uri": "https://localhost:8080/"
    },
    "id": "09TCVbyQWzag",
    "outputId": "bce89aba-33c6-45c3-b275-d547c682d3ea"
   },
   "outputs": [],
   "source": [
    "# Find barra2 grid cell coordinates\n",
    "import urllib.request\n",
    "import xarray as xr\n",
    "\n",
    "# Download one barra2 file to extract grid cells\n",
    "url = \"https://thredds.nci.org.au/thredds/fileServer/ob53/output/reanalysis/AUST-04/BOM/ERA5/historical/hres/BARRA-C2/v1/1hr/tas/latest/tas_AUST-04_ERA5_historical_hres_BOM_BARRA-C2_v1_1hr_201812-201812.nc\"\n",
    "sampled_barra2_file_path = os.path.join(working_dir, \"Data\", \"barra2_tas_201812.nc\")\n",
    "if not os.path.exists(sampled_barra2_file_path):\n",
    "    urllib.request.urlretrieve(url, sampled_barra2_file_path)\n",
    "\n",
    "ds = xr.open_dataset(sampled_barra2_file_path)\n",
    "\n",
    "lats = ds['lat'].values\n",
    "lons = ds['lon'].values\n",
    "print(\"lats: \", lats)\n",
    "print(\"lons: \", lons)"
   ]
  },
  {
   "cell_type": "code",
   "execution_count": null,
   "metadata": {
    "colab": {
     "base_uri": "https://localhost:8080/"
    },
    "id": "SieNW-RVXlqp",
    "outputId": "66e3a3f5-9b9e-4302-ffe2-c8810433d378"
   },
   "outputs": [],
   "source": [
    "# Make a list of locations of all sites and reduce it to barra2 grid cell locations\n",
    "\n",
    "import numpy as np\n",
    "\n",
    "def find_nearest_grid_point(x, y, lon_grid, lat_grid):\n",
    "    nearest_lon = lon_grid[np.abs(lon_grid - x).argmin()]\n",
    "    nearest_lat = lat_grid[np.abs(lat_grid - y).argmin()]\n",
    "    return nearest_lon, nearest_lat\n",
    "\n",
    "df[['barra2_X', 'barra2_Y']] = df.apply(\n",
    "    lambda row: pd.Series(find_nearest_grid_point(row['X'], row['Y'], lons, lats)),\n",
    "    axis=1\n",
    ")\n",
    "barra2_cell_locations_list = list(set((x, y) for x, y in df[['barra2_X', 'barra2_Y']].values))\n",
    "print(\"barra2_cell_locations_list length: \", len(barra2_cell_locations_list))\n",
    "print(\"barra2_cell_locations_list: \", [(str(x), str(y)) for x, y in barra2_cell_locations_list])"
   ]
  },
  {
   "cell_type": "code",
   "execution_count": null,
   "metadata": {
    "id": "2OfyRVBPXpWZ"
   },
   "outputs": [],
   "source": [
    " # Use Python loop and curl to download all barra2 data\n",
    "\n",
    "import urllib\n",
    "import calendar\n",
    "from datetime import datetime, timedelta\n",
    "\n",
    "if download_barra2_data:\n",
    "    barra2_data_dir = os.path.join(working_dir, \"Data/barra2\")\n",
    "    os.makedirs(barra2_data_dir, exist_ok=True)\n",
    "\n",
    "    for i, (x, y) in enumerate(barra2_cell_locations_list):\n",
    "        print(f\"Downloading data for barra2 cell coordinate {i + 1} of {len(barra2_cell_locations_list)}\")\n",
    "        current_dt = first_datetime.replace(day=1)\n",
    "\n",
    "        while current_dt <= last_datetime:\n",
    "            year = current_dt.year\n",
    "            month = current_dt.month\n",
    "            yyyymm = f\"{year}{month:02d}\"\n",
    "\n",
    "            # Determine time_start and time_end for this month\n",
    "            month_start = current_dt\n",
    "            last_day = calendar.monthrange(year, month)[1]\n",
    "            month_end = datetime(year, month, last_day)\n",
    "\n",
    "            raw_start = month_start.strftime('%Y-%m-%dT00:00:00Z')\n",
    "            raw_end = month_end.strftime('%Y-%m-%dT23:00:00Z')\n",
    "            time_start = urllib.parse.quote(raw_start, safe='')\n",
    "            time_end = urllib.parse.quote(raw_end, safe='')\n",
    "\n",
    "            # Download temperature and relative humidity data\n",
    "            for var in ['tas', 'hurs']:\n",
    "                url = f\"https://thredds.nci.org.au/thredds/ncss/grid/ob53/output/reanalysis/AUST-04/BOM/ERA5/historical/hres/BARRA-C2/v1/1hr/{var}/latest/{var}_AUST-04_ERA5_historical_hres_BOM_BARRA-C2_v1_1hr_{yyyymm}-{yyyymm}.nc?var={var}&latitude={y}&longitude={x}&time_start={time_start}&time_end={time_end}&timeStride=&vertCoord=&accept=csv\"\n",
    "                output_file_path = os.path.join(barra2_data_dir, f\"barra2_data_{var}_{x}_{y}_{yyyymm}.csv\")\n",
    "                print(f\"Downloading {output_file_path} from {url}\")\n",
    "                !curl -s -L \"{url}\" -o \"{output_file_path}\" -C -\n",
    "\n",
    "            # Go to next month\n",
    "            if month == 12:\n",
    "                current_dt = datetime(year + 1, 1, 1)\n",
    "            else:\n",
    "                current_dt = datetime(year, month + 1, 1)"
   ]
  },
  {
   "cell_type": "code",
   "execution_count": null,
   "metadata": {
    "colab": {
     "base_uri": "https://localhost:8080/"
    },
    "id": "OZl3AbZ6BHUP",
    "outputId": "5e691b46-0061-440d-cce9-4a0659937a3a"
   },
   "outputs": [],
   "source": [
    "# # BARRA2 data exploration\n",
    "\n",
    "# barra2_data_dir = os.path.join(working_dir, \"Data/barra2\")\n",
    "# barra2_df = pd.read_csv(os.path.join(barra2_data_dir, os.listdir(barra2_data_dir)[0]))\n",
    "# barra2_df.info()"
   ]
  },
  {
   "cell_type": "code",
   "execution_count": null,
   "metadata": {
    "colab": {
     "base_uri": "https://localhost:8080/",
     "height": 293
    },
    "id": "NC2p8jreFxNP",
    "outputId": "1f02c96c-9cd0-4880-a0f7-34c92d42f84a"
   },
   "outputs": [],
   "source": [
    "# barra2_df.head()"
   ]
  },
  {
   "cell_type": "code",
   "execution_count": null,
   "metadata": {
    "id": "asUcGxsUCV0a"
   },
   "outputs": [],
   "source": [
    "# # BARRA2 netCDF data exploration\n",
    "\n",
    "# import xarray as xr\n",
    "\n",
    "# if explore_barra2_data:\n",
    "#     tas_url = \"https://thredds.nci.org.au/thredds/fileServer/ob53/output/reanalysis/AUST-04/BOM/ERA5/historical/hres/BARRA-C2/v1/1hr/tas/latest/tas_AUST-04_ERA5_historical_hres_BOM_BARRA-C2_v1_1hr_201812-201812.nc\"\n",
    "#     hurs_url = \"https://thredds.nci.org.au/thredds/fileServer/ob53/output/reanalysis/AUST-04/BOM/ERA5/historical/hres/BARRA-C2/v1/1hr/hurs/latest/hurs_AUST-04_ERA5_historical_hres_BOM_BARRA-C2_v1_1hr_201812-201812.nc\"\n",
    "#     !curl -L {tas_url} -o \"barra2_tas.nc\"\n",
    "#     !curl -L {hurs_url} -o \"barra2_hurs.nc\"\n",
    "\n",
    "#     tas_ds = xr.open_dataset(\"barra2_tas.nc\")\n",
    "#     hurs_ds = xr.open_dataset(\"barra2_hurs.nc\")\n",
    "#     tas_ds"
   ]
  },
  {
   "cell_type": "code",
   "execution_count": null,
   "metadata": {
    "id": "PDhZPzhJEiaM"
   },
   "outputs": [],
   "source": [
    "# if explore_barra2_data:\n",
    "#     hurs_ds"
   ]
  },
  {
   "cell_type": "markdown",
   "metadata": {
    "id": "UT6mFyh-PmBY"
   },
   "source": [
    "# Combining in-situ and remote data into a single dataframe"
   ]
  },
  {
   "cell_type": "code",
   "execution_count": null,
   "metadata": {
    "colab": {
     "base_uri": "https://localhost:8080/",
     "height": 434
    },
    "id": "9-qpPHGjw84H",
    "outputId": "72a5f4e5-cfdc-44b5-d8e6-9919791c6238"
   },
   "outputs": [],
   "source": [
    "# Generate UTC_Datetime for in-situ observations\n",
    "\n",
    "from pytz import timezone\n",
    "\n",
    "aus_tz = timezone('Australia/Sydney')\n",
    "df['Datetime'] = df['Datetime'].dt.tz_localize(aus_tz, ambiguous='NaT', nonexistent='NaT')\n",
    "df = df[~df['Datetime'].isna()]\n",
    "df['UTC_Datetime'] = df['Datetime'].dt.tz_convert('UTC')\n",
    "\n",
    "df.head()"
   ]
  },
  {
   "cell_type": "code",
   "execution_count": null,
   "metadata": {
    "colab": {
     "base_uri": "https://localhost:8080/",
     "height": 1000
    },
    "id": "3hUnOMyNKGMM",
    "outputId": "b991b283-6a60-46bd-badc-c66f62f9fc4c"
   },
   "outputs": [],
   "source": [
    "# For each row, open barra2 data csv file one-by-one to get data (40 min)\n",
    "\n",
    "from scipy.constants import convert_temperature\n",
    "\n",
    "def get_barra2_value(row, var):\n",
    "    yyyymm = row['UTC_Datetime'].round('h').strftime('%Y%m')\n",
    "    file_path = os.path.join(barra2_data_dir, f\"barra2_data_{var}_{row['barra2_X']}_{row['barra2_Y']}_{yyyymm}.csv\")\n",
    "    df_barra2 = pd.read_csv(file_path)\n",
    "\n",
    "    target_time = row['UTC_Datetime'].round('h').strftime('%Y-%m-%dT%H:%M:%SZ')\n",
    "    column_name = df_barra2.columns[df_barra2.columns.str.contains(var)]\n",
    "    barra2_value = df_barra2.loc[df_barra2['time'] == target_time, column_name].values[0][0]\n",
    "    if var == 'tas':\n",
    "        barra2_value = convert_temperature(barra2_value, 'Kelvin', 'Celsius')\n",
    "\n",
    "    return round(barra2_value, 3)\n",
    "\n",
    "barra2_data_dir = os.path.join(working_dir, \"Data/barra2\")\n",
    "df['barra2_Temperature'] = df.apply(lambda row: get_barra2_value(row, 'tas'), axis=1)\n",
    "df['barra2_RH'] = df.apply(lambda row: get_barra2_value(row, 'hurs'), axis=1)\n",
    "df.head()"
   ]
  },
  {
   "cell_type": "code",
   "execution_count": null,
   "metadata": {
    "colab": {
     "base_uri": "https://localhost:8080/",
     "height": 86
    },
    "id": "MI3KLC0BRVRn",
    "outputId": "d4cac879-5ff2-4c18-bccb-20d9e9a7688d"
   },
   "outputs": [],
   "source": [
    "# Investigate null values.\n",
    "df[df.isna().any(axis=1)]"
   ]
  },
  {
   "cell_type": "markdown",
   "metadata": {
    "id": "kZaBSFcqP3G3"
   },
   "source": [
    "# Calculating remote VPD from remote temperature and remote relative humidity"
   ]
  },
  {
   "cell_type": "code",
   "execution_count": null,
   "metadata": {},
   "outputs": [],
   "source": [
    "from Utils.vpd import calculate_vpd\n",
    "\n",
    "df['barra2_VPD'] = df.apply(lambda row: calculate_vpd(row['barra2_Temperature'], row['barra2_RH']), axis=1)\n",
    "df.head()"
   ]
  },
  {
   "cell_type": "markdown",
   "metadata": {
    "id": "bm8xvMkaQEWI"
   },
   "source": [
    "# Save the resulting dataframes"
   ]
  },
  {
   "cell_type": "code",
   "execution_count": null,
   "metadata": {
    "id": "7HURGOZDVwjs"
   },
   "outputs": [],
   "source": [
    "df.to_csv(os.path.join(working_dir, \"output\", \"csv\", output_file_name), index=False)"
   ]
  },
  {
   "cell_type": "code",
   "execution_count": null,
   "metadata": {},
   "outputs": [],
   "source": []
  }
 ],
 "metadata": {
  "colab": {
   "authorship_tag": "ABX9TyM7+sr69YX8tC0gcq1MWp55",
   "provenance": []
  },
  "kernelspec": {
   "display_name": "base",
   "language": "python",
   "name": "python3"
  },
  "language_info": {
   "codemirror_mode": {
    "name": "ipython",
    "version": 3
   },
   "file_extension": ".py",
   "mimetype": "text/x-python",
   "name": "python",
   "nbconvert_exporter": "python",
   "pygments_lexer": "ipython3",
   "version": "3.12.3"
  }
 },
 "nbformat": 4,
 "nbformat_minor": 0
}
