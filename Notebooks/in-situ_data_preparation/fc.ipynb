{
 "cells": [
  {
   "cell_type": "code",
   "execution_count": null,
   "id": "0",
   "metadata": {},
   "outputs": [],
   "source": [
    "working_dir = '../..'\n",
    "import os\n",
    "import sys\n",
    "\n",
    "import pandas as pd\n",
    "from tqdm import tqdm\n",
    "\n",
    "tqdm.pandas()\n",
    "\n",
    "sys.path.append(working_dir)\n",
    "from Utils.datetime import *"
   ]
  },
  {
   "cell_type": "code",
   "execution_count": null,
   "id": "1",
   "metadata": {},
   "outputs": [],
   "source": [
    "site_df = pd.read_csv('../../Data/all_sites_latlon_dates.csv')\n",
    "site_df['start_date'] = pd.to_datetime(site_df['start_date'], format='%d/%m/%Y')\n",
    "site_df['end_date'] = pd.to_datetime(site_df['end_date'], format='%d/%m/%Y')\n",
    "\n",
    "site_df = site_df[site_df['Source'] == 'Forestry Corp']\n",
    "site_df"
   ]
  },
  {
   "cell_type": "code",
   "execution_count": null,
   "id": "2",
   "metadata": {},
   "outputs": [],
   "source": [
    "start_date = site_df['start_date'].values[0]\n",
    "end_date = site_df['end_date'].values[0] + pd.Timedelta(days=1)\n",
    "UTC_datetime_range = pd.date_range(start=start_date, end=end_date, freq='15T')\n",
    "\n",
    "df = pd.DataFrame(\n",
    "    [\n",
    "        {\n",
    "            'SiteID': row.SiteID,\n",
    "            'Station_name': row.Station_name,\n",
    "            'X': row.Stn_long,\n",
    "            'Y': row.Stn_lat,\n",
    "            'UTC_Datetime': dt,\n",
    "        }\n",
    "        for _, row in site_df.iterrows()\n",
    "        for dt in UTC_datetime_range\n",
    "    ]\n",
    ")\n",
    "df"
   ]
  },
  {
   "cell_type": "code",
   "execution_count": null,
   "id": "3",
   "metadata": {},
   "outputs": [],
   "source": [
    "df = add_Canberra_Datetime(df)\n",
    "df = add_AEST_Datetime(df)\n",
    "df.head()"
   ]
  },
  {
   "cell_type": "code",
   "execution_count": null,
   "id": "4",
   "metadata": {},
   "outputs": [],
   "source": [
    "output_dir = os.path.join(working_dir, 'Data', 'fc')\n",
    "os.makedirs(output_dir, exist_ok=True)\n",
    "df.to_csv(os.path.join(output_dir, 'fc.csv'), index=False)\n",
    "df.head()"
   ]
  },
  {
   "cell_type": "code",
   "execution_count": null,
   "id": "5",
   "metadata": {},
   "outputs": [],
   "source": []
  }
 ],
 "metadata": {
  "kernelspec": {
   "display_name": "base",
   "language": "python",
   "name": "python3"
  },
  "language_info": {
   "codemirror_mode": {
    "name": "ipython",
    "version": 3
   },
   "file_extension": ".py",
   "mimetype": "text/x-python",
   "name": "python",
   "nbconvert_exporter": "python",
   "pygments_lexer": "ipython3",
   "version": "3.12.3"
  }
 },
 "nbformat": 4,
 "nbformat_minor": 5
}
