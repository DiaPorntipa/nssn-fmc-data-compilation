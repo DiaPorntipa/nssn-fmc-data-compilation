{
 "cells": [
  {
   "cell_type": "code",
   "execution_count": null,
   "id": "0",
   "metadata": {},
   "outputs": [],
   "source": [
    "!pip install geopy"
   ]
  },
  {
   "cell_type": "markdown",
   "id": "1",
   "metadata": {},
   "source": [
    "# Extract latlon of each site location using DBSCAN"
   ]
  },
  {
   "cell_type": "code",
   "execution_count": null,
   "id": "2",
   "metadata": {},
   "outputs": [],
   "source": [
    "import glob\n",
    "\n",
    "import matplotlib.pyplot as plt\n",
    "import numpy as np\n",
    "import pandas as pd\n",
    "from geopy.distance import great_circle\n",
    "from geopy.point import Point\n",
    "from sklearn.cluster import DBSCAN\n",
    "\n",
    "\n",
    "def save_latlon_graph(df, station_name):\n",
    "    df = df.dropna(subset=['Stn_lat', 'Stn_long'])\n",
    "    df = df[(df['Stn_lat'] != 999) & (df['Stn_long'] != 999)]\n",
    "    plt.scatter(df['Stn_long'], df['Stn_lat'], s=1)\n",
    "    plt.xlabel('Longitude')\n",
    "    plt.ylabel('Latitude')\n",
    "    plt.title(f'GPS Locations of station {station_name}')\n",
    "    plt.grid(True)\n",
    "    plt.savefig(f'latlon_plots/station_{station_name}')\n",
    "\n",
    "\n",
    "def find_station_location(df, station_name):\n",
    "    # Prepare coordinates\n",
    "    latlon_df = df[['Stn_lat', 'Stn_long']]\n",
    "    latlon_df = latlon_df.drop_duplicates()\n",
    "    latlon_df = latlon_df.dropna()\n",
    "    coords = latlon_df.to_numpy()\n",
    "\n",
    "    # Run DBSCAN\n",
    "    kms_per_radian = 6371.0088\n",
    "    epsilon = 0.05 / kms_per_radian  # 50 meters radius\n",
    "    db = DBSCAN(eps=epsilon, min_samples=10, algorithm='ball_tree', metric='haversine').fit(\n",
    "        np.radians(coords)\n",
    "    )\n",
    "    latlon_df['cluster'] = db.labels_\n",
    "\n",
    "    # Get cluster centers\n",
    "    locations = latlon_df.groupby('cluster')[['Stn_lat', 'Stn_long']].mean()\n",
    "    locations = locations.loc[locations.index != -1]  # exclude noise\n",
    "    print(f\"locations fo station {station_name} are\", locations)\n",
    "\n",
    "    return locations, latlon_df\n",
    "\n",
    "\n",
    "locations_dates_df_list = []\n",
    "for i, file_name in enumerate(glob.glob(\"fts*.csv\")):\n",
    "    df = pd.read_csv(file_name)\n",
    "    print(f\"Station names: {df['Station name'].unique()}\")\n",
    "    station_name = df['Station name'][0]\n",
    "\n",
    "    save_latlon_graph(df, station_name)\n",
    "    locations, latlon_df = find_station_location(df, station_name)\n",
    "    locations_df = locations.reset_index()\n",
    "\n",
    "    # Find the start and end dates of each cluster\n",
    "    df = df.merge(latlon_df, how='left', on=['Stn_lat', 'Stn_long'])\n",
    "    df['Date'] = pd.to_datetime(df['Date'])\n",
    "    start_end_dates_df = df.groupby('cluster')['Date'].agg(['min', 'max']).reset_index()\n",
    "    start_end_dates_df.rename(\n",
    "        columns={'min': 'start_date_UTC', 'max': 'end_date_UTC'}, inplace=True\n",
    "    )\n",
    "    locations_dates_df = locations_df.merge(start_end_dates_df, on='cluster', how='left')\n",
    "\n",
    "    locations_dates_df['Station_name'] = station_name\n",
    "    locations_dates_df_list.append(locations_dates_df)\n",
    "\n",
    "sites_info_df = pd.concat(locations_dates_df_list)\n",
    "sites_info_df"
   ]
  },
  {
   "cell_type": "code",
   "execution_count": null,
   "id": "3",
   "metadata": {},
   "outputs": [],
   "source": [
    "# Clean and save sites_info_df\n",
    "sites_info_df['start_date_UTC'] = sites_info_df['start_date_UTC'].dt.date\n",
    "sites_info_df['end_date_UTC'] = sites_info_df['end_date_UTC'].dt.date\n",
    "sites_info_df = sites_info_df.round(4).drop(['cluster'], axis=1)\n",
    "sites_info_df.to_csv(\"sites_latlon_dates.csv\", index=False)"
   ]
  },
  {
   "cell_type": "markdown",
   "id": "4",
   "metadata": {},
   "source": [
    "# Find the first observation date"
   ]
  },
  {
   "cell_type": "code",
   "execution_count": null,
   "id": "5",
   "metadata": {},
   "outputs": [],
   "source": [
    "# Done manually: 2020-01-01"
   ]
  }
 ],
 "metadata": {
  "kernelspec": {
   "display_name": "base",
   "language": "python",
   "name": "python3"
  },
  "language_info": {
   "codemirror_mode": {
    "name": "ipython",
    "version": 3
   },
   "file_extension": ".py",
   "mimetype": "text/x-python",
   "name": "python",
   "nbconvert_exporter": "python",
   "pygments_lexer": "ipython3",
   "version": "3.12.7"
  }
 },
 "nbformat": 4,
 "nbformat_minor": 5
}
