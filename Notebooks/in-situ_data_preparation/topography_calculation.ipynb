{
 "cells": [
  {
   "cell_type": "markdown",
   "metadata": {
    "id": "Qz3tj4ZNx78y"
   },
   "source": [
    "# Start\n",
    "\n",
    "This script calculates slope, aspect, and relief of a selected square area in Australia from a DEM (Digital Elevation Model) `.tif` file.\n",
    "\n",
    "📄 **What this script does**\n",
    "1. Loads the Australia DEM `.tif` file, crops it using the intersection of the desired `bbox` and the Australia shapefile, and saves the result as `{location_name}_dem.tif` in the `output` folder.\n",
    "2. Loads `{location_name}_dem.tif`, replaces negative values with 0 and `-9999` with `np.nan`, then saves the result as `{location_name}_dem_no_neg.tif` in the `output` folder.\n",
    "3. Uses `gdal.DEMProcessing()` to generate `{location_name}_slope.tif` and `{location_name}_aspect.tif` from `{location_name}_dem_no_neg.tif`.\n",
    "4. Calculates relief as the median elevation within 5 km tiles, and saves the result as `{location_name}_relief.tif` in the `output` folder.  \n",
    "   Note: DEM values in offshore areas are filled with zeroes to enable relief calculation near coastlines.\n",
    "\n",
    "⚠️ **Important notes**\n",
    "* Before running the script, set all variables in the **first cell**, and delete the **second cell** if not using a Google Colab environment.  \n",
    "  *(The script was developed for use in Google Colab and has not been tested outside of it.)*\n",
    "* Some relief values near the `bbox` border may be inaccurately filled for convenience in coastal calculations. This should not affect results as long as selected points are not near the `bbox` border.\n"
   ]
  },
  {
   "cell_type": "code",
   "execution_count": null,
   "metadata": {
    "id": "rgjEJwr6-uHu"
   },
   "outputs": [],
   "source": [
    "working_dir = \"../..\"\n",
    "dem_tif_file_path = \"Data/aus_dem/dem_vic_nsw_act.tif\"\n",
    "data_exploration = False\n",
    "\n",
    "australia_shp_folder_path = \"Utils/STE_2021_AUST_SHP_GDA2020\"\n",
    "\n",
    "# Set interest areas data. Use large bbox to leave room for relief calculation\n",
    "# Note: GDAL uses upper-left and lower-right corner\n",
    "# TODO (LOW): Recalculate relief of coffs_harbour and port_macquaria areas.\n",
    "#             The one calculated excluded border in which there are 0.0 in the square.\n",
    "# location_name = \"coffs_harbour\"\n",
    "# bbox = [152.7, -29.8, 153.4, -30.4]  # [minX, maxY, maxX, minY]\n",
    "\n",
    "# location_name = \"port_macquarie\"\n",
    "# bbox = [152.4, -31.2, 152.7, -31.7]\n",
    "\n",
    "# location_name = \"batemans_bay\"\n",
    "# # bbox = [150.0, -35.4, 150.3, -35.7]  # Small scope\n",
    "# bbox = [149.8, -35.2, 150.5, -36.3]  # Large scope (include phd sites)\n",
    "\n",
    "location_name = \"pcs\"\n",
    "bbox = [148.8, -35.0, 149.4, -35.8]"
   ]
  },
  {
   "cell_type": "code",
   "execution_count": null,
   "metadata": {},
   "outputs": [],
   "source": [
    "import glob\n",
    "import os\n",
    "import pprint\n",
    "import sys\n",
    "\n",
    "import geopandas as gpd\n",
    "import numpy as np\n",
    "import rasterio\n",
    "from matplotlib import pyplot as plt\n",
    "from osgeo import gdal\n",
    "from rasterio.plot import show\n",
    "from shapely.geometry import box\n",
    "\n",
    "sys.path.append(working_dir)"
   ]
  },
  {
   "cell_type": "code",
   "execution_count": null,
   "metadata": {},
   "outputs": [],
   "source": [
    "# Create a folder for storing outputs\n",
    "output_dir = os.path.join(working_dir, \"output\")\n",
    "os.makedirs(output_dir, exist_ok=True)\n",
    "os.makedirs(os.path.join(output_dir, \"geojson\"), exist_ok=True)\n",
    "os.makedirs(os.path.join(output_dir, \"tif\"), exist_ok=True)"
   ]
  },
  {
   "cell_type": "markdown",
   "metadata": {
    "id": "9aytg7sk9T-L"
   },
   "source": [
    "# Calculation of slope and aspect with .tif DEM data"
   ]
  },
  {
   "cell_type": "markdown",
   "metadata": {
    "id": "a0288y_O-9Ho"
   },
   "source": [
    "## Data loading and exploration"
   ]
  },
  {
   "cell_type": "code",
   "execution_count": null,
   "metadata": {
    "colab": {
     "base_uri": "https://localhost:8080/"
    },
    "id": "9FCGVBkNLiZH",
    "outputId": "f5f50c70-2cd3-4450-a767-e3cea1e3e979"
   },
   "outputs": [],
   "source": [
    "# Read the metadata and the data\n",
    "\n",
    "with rasterio.open(os.path.join(working_dir, dem_tif_file_path)) as src:\n",
    "    print(\"Full metadata:\")\n",
    "    pprint.pp(src.profile)\n",
    "\n",
    "    if data_exploration:\n",
    "        data = src.read(1)  # Read the first band into a NumPy array\n",
    "        print(\"\\n\")\n",
    "        print(f\"Data shape: {data.shape}\")\n",
    "        print(f\"Data: {data}\")"
   ]
  },
  {
   "cell_type": "code",
   "execution_count": null,
   "metadata": {
    "id": "TNUK0ZV3QPIk"
   },
   "outputs": [],
   "source": [
    "# Exploring the data\n",
    "\n",
    "if data_exploration:\n",
    "    print(f\"Unique values: {np.unique(data[:10000, :10000])}\")\n",
    "    print(f\"Data min: {data.min()}\")\n",
    "    print(f\"Data max: {data.max()}\")"
   ]
  },
  {
   "cell_type": "markdown",
   "metadata": {
    "id": "rSapgS9cMV2m"
   },
   "source": [
    "## Pre-processing"
   ]
  },
  {
   "cell_type": "code",
   "execution_count": null,
   "metadata": {
    "id": "K2hf4pfBB4ba"
   },
   "outputs": [],
   "source": [
    "def create_cutline_file(bbox, aus):\n",
    "    bbox_poly = box(\n",
    "        bbox[0], bbox[3], bbox[2], bbox[1]\n",
    "    )  # shapely box takes (minx, miny, maxx, maxy)\n",
    "    intersection = aus.intersection(bbox_poly)\n",
    "    intersection = gpd.GeoSeries(intersection).dropna().explode(index_parts=False)\n",
    "\n",
    "    if intersection.is_empty.all():\n",
    "        print(\"No intersection found.\")\n",
    "    else:\n",
    "        # Save to file for use as cutline\n",
    "        # TODO (LOW): Save cutline in a seperate folder\n",
    "        cutline_gdf = gpd.GeoDataFrame(geometry=intersection, crs=aus.crs)\n",
    "        cutline_gdf = cutline_gdf[~cutline_gdf.geometry.is_empty]\n",
    "        cutline_path = os.path.join(output_dir, location_name + \"_intersection_cutline.geojson\")\n",
    "        cutline_gdf.to_file(cutline_path, driver=\"GeoJSON\")\n",
    "        print(f\"Cutline saved to: {cutline_path}\")\n",
    "        cutline_gdf.plot()\n",
    "        return cutline_gdf, cutline_path\n",
    "\n",
    "\n",
    "def create_cropped_dem_tif(output_tif, cutline_path):\n",
    "    # Crop DEM using polygon cutline\n",
    "    gdal.UseExceptions()\n",
    "    try:\n",
    "        gdal.Warp(\n",
    "            output_tif,\n",
    "            dem_tif_file_path,\n",
    "            cutlineDSName=cutline_path,\n",
    "            cropToCutline=True,\n",
    "            dstNodata=-9999,  # Or whatever is appropriate\n",
    "        )\n",
    "        print(f\"Cropped DEM saved to: {output_tif}\")\n",
    "    except Exception as e:\n",
    "        print(\"GDAL Warp error:\", e)"
   ]
  },
  {
   "cell_type": "code",
   "execution_count": null,
   "metadata": {
    "colab": {
     "base_uri": "https://localhost:8080/",
     "height": 466
    },
    "id": "4nn8jYKNNkdk",
    "outputId": "05cd58b2-e14b-404f-cc34-4eafbd6b6bff"
   },
   "outputs": [],
   "source": [
    "# Get .tif of only interest areas\n",
    "\n",
    "# Read shapefile of Australia\n",
    "australia_shp_folder_path = os.path.join(working_dir, australia_shp_folder_path)\n",
    "australia_shp_file_path = glob.glob(os.path.join(australia_shp_folder_path, \"*.shp\"))[0]\n",
    "aus = gpd.read_file(australia_shp_file_path)\n",
    "\n",
    "# Get cropped .tif dem file\n",
    "cutline_gdf, cutline_path = create_cutline_file(bbox, aus)\n",
    "cropped_dem_tif_path = os.path.join(output_dir, 'tif', location_name + \"_dem.tif\")\n",
    "create_cropped_dem_tif(cropped_dem_tif_path, cutline_path)"
   ]
  },
  {
   "cell_type": "code",
   "execution_count": null,
   "metadata": {
    "colab": {
     "base_uri": "https://localhost:8080/"
    },
    "id": "BTc3qb-iP5Xw",
    "outputId": "b50d50d0-0958-4060-a1ae-f814b0b218e2"
   },
   "outputs": [],
   "source": [
    "# Explore the cropped .tif dem file\n",
    "\n",
    "with rasterio.open(cropped_dem_tif_path) as src:\n",
    "    print(\"Full metadata:\")\n",
    "    profile = src.profile\n",
    "    pprint.pp(profile)\n",
    "\n",
    "    data = src.read(1)  # Read the first band into a NumPy array\n",
    "    print(\"\\n\")\n",
    "    print(f\"Data shape: {data.shape}\")\n",
    "    print(f\"Data: {data}\")\n",
    "\n",
    "    print(f\"Unique values: {np.unique(data)}\")\n",
    "    print(f\"Data min: {data.min()}\")\n",
    "    print(f\"Data max: {data.max()}\")"
   ]
  },
  {
   "cell_type": "code",
   "execution_count": null,
   "metadata": {
    "colab": {
     "base_uri": "https://localhost:8080/",
     "height": 490
    },
    "id": "ct61tcpMMaLz",
    "outputId": "fa937cec-99ad-435e-a3e0-7a07f4c8c1d5"
   },
   "outputs": [],
   "source": [
    "# Remove negative values with zeroes\n",
    "\n",
    "data[data == -9999.0] = np.nan\n",
    "data[data < 0.0] = 0.0\n",
    "\n",
    "no_neg_cropped_dem_tif_path = os.path.join(output_dir, 'tif', location_name + \"_dem_no_neg.tif\")\n",
    "with rasterio.open(no_neg_cropped_dem_tif_path, \"w\", **profile) as dst:\n",
    "    dst.write(data, 1)\n",
    "    print(f\"No negative cropped DEM saved to: {no_neg_cropped_dem_tif_path}\")\n",
    "\n",
    "    plt.imshow(data, cmap=\"terrain\")\n",
    "    plt.colorbar(label=\"DEM (metres)\")\n",
    "    plt.title(\"Digital Elevation Model\")\n",
    "    plt.show()"
   ]
  },
  {
   "cell_type": "markdown",
   "metadata": {
    "id": "3jraqwFQ_CJg"
   },
   "source": [
    "## Calculation"
   ]
  },
  {
   "cell_type": "markdown",
   "metadata": {
    "id": "8CpRIeClzZ8U"
   },
   "source": [
    "### Slope"
   ]
  },
  {
   "cell_type": "code",
   "execution_count": null,
   "metadata": {
    "colab": {
     "base_uri": "https://localhost:8080/",
     "height": 488
    },
    "id": "WU-0oohQAQMf",
    "outputId": "af771f07-19bf-4eed-f9b7-4ea073d018b3"
   },
   "outputs": [],
   "source": [
    "# Computing and visualise slope from . tif DEM data\n",
    "\n",
    "slope_path = os.path.join(output_dir, 'tif', location_name + \"_slope.tif\")\n",
    "print(f\"Slope saved to: {slope_path}\")\n",
    "\n",
    "# Compute slope\n",
    "gdal.DEMProcessing(\n",
    "    slope_path,  # Output file path\n",
    "    no_neg_cropped_dem_tif_path,  # Input DEM file\n",
    "    \"slope\",  # Processing type\n",
    "    format=\"GTiff\",  # Output format\n",
    "    computeEdges=True,  # Avoid edge artifacts\n",
    "    slopeFormat=\"degree\",  # Options: 'degree' or 'percent'\n",
    ")\n",
    "\n",
    "print(\"Slope calculation complete.\")\n",
    "\n",
    "# Visualise output slope with matplotlib\n",
    "with rasterio.open(slope_path) as src:\n",
    "    slope_data = src.read(1)\n",
    "\n",
    "plt.imshow(slope_data, cmap=\"terrain\")\n",
    "plt.colorbar(label=\"Slope (degrees)\")\n",
    "plt.title(\"Slope Map\")\n",
    "plt.show()"
   ]
  },
  {
   "cell_type": "markdown",
   "metadata": {
    "id": "JtsDVF0Kzdr3"
   },
   "source": [
    "### Aspect"
   ]
  },
  {
   "cell_type": "code",
   "execution_count": null,
   "metadata": {
    "colab": {
     "base_uri": "https://localhost:8080/",
     "height": 488
    },
    "id": "EVsFraM-XuHz",
    "outputId": "a19fc863-9dce-4d86-e0c6-82dfe46a1b8d"
   },
   "outputs": [],
   "source": [
    "# Computing and visualise aspect from . tif DEM data\n",
    "\n",
    "aspect_path = os.path.join(output_dir, 'tif', location_name + \"_aspect.tif\")\n",
    "print(f\"Aspect saved to: {aspect_path}\")\n",
    "\n",
    "# Compute aspect\n",
    "gdal.DEMProcessing(\n",
    "    aspect_path,  # Output file path\n",
    "    no_neg_cropped_dem_tif_path,  # Input DEM file\n",
    "    \"aspect\",  # Processing type\n",
    "    format=\"GTiff\",  # Output format\n",
    "    computeEdges=True,  # Avoid edge artifacts\n",
    ")\n",
    "\n",
    "print(\"Aspect calculation complete.\")\n",
    "\n",
    "# Visualise output aspect with matplotlib\n",
    "with rasterio.open(aspect_path) as src:\n",
    "    aspect_data = src.read(1)\n",
    "\n",
    "aspect_data[aspect_data == -9999] = np.nan\n",
    "plt.imshow(aspect_data, cmap=\"terrain\")\n",
    "plt.colorbar(label=\"Aspect (degrees)\")\n",
    "plt.title(\"Aspect Map\")\n",
    "plt.show()"
   ]
  },
  {
   "cell_type": "markdown",
   "metadata": {
    "id": "iRw1TzG3zllt"
   },
   "source": [
    "### Relief\n",
    "Some supposedly np.nan relief values around the boarder are filled in inaccurately for the sake of convenient sea area calulation. This will not be a problem as long as points used are not near the boarder."
   ]
  },
  {
   "cell_type": "code",
   "execution_count": null,
   "metadata": {
    "colab": {
     "base_uri": "https://localhost:8080/"
    },
    "id": "0T9m9mJmdDrH",
    "outputId": "381e8d55-70d4-4115-88e4-86975e503ac4"
   },
   "outputs": [],
   "source": [
    "# Compute relief (aka Topographic position index) with median of all tiles in 5 km square\n",
    "\n",
    "import math\n",
    "import os\n",
    "\n",
    "import numpy as np\n",
    "import rasterio\n",
    "\n",
    "\n",
    "def calculate_relief_for_tile(dem_data, x, y):\n",
    "    reach = math.floor(2500 / 30)\n",
    "    square = dem_data[y - reach : y + reach, x - reach : x + reach]\n",
    "    # if 0.0 in square:\n",
    "    #     print(f\"Skip calculation at ({x}, {y}) because the square contains 0.0\")\n",
    "    #     return np.nan\n",
    "    median_dem = np.median(square)  # return NaN if any NaN is present in the array\n",
    "    relief = dem_data[y, x] - median_dem\n",
    "    print(f\"Relief at ({x}, {y}): {relief}\")\n",
    "    return relief\n",
    "\n",
    "\n",
    "# Compute relief for the whole area\n",
    "with rasterio.open(no_neg_cropped_dem_tif_path) as src:\n",
    "    dem_data = src.read(1)\n",
    "\n",
    "# Fill in dem for the sea area as zeroes\n",
    "# TODO (LOW): Make the border remain np.nan for accurate representation.\n",
    "#   The mask is fill with only 255 when the boarder supposed to be 0.\n",
    "dem_data = np.nan_to_num(dem_data, nan=0.0)\n",
    "\n",
    "relief_data = np.zeros(dem_data.shape)\n",
    "relief_data.fill(np.nan)\n",
    "# TODO (LOW): Choose better padding\n",
    "padding = math.floor(2500 / 30)\n",
    "for y in range(padding, dem_data.shape[0] - padding):\n",
    "    for x in range(padding, dem_data.shape[1] - padding):\n",
    "        relief_data[y, x] = calculate_relief_for_tile(dem_data, x, y)"
   ]
  },
  {
   "cell_type": "code",
   "execution_count": null,
   "metadata": {
    "colab": {
     "base_uri": "https://localhost:8080/",
     "height": 470
    },
    "id": "PzHfZNSZhMlv",
    "outputId": "0492ae58-33c1-4993-c03b-de608983bd93"
   },
   "outputs": [],
   "source": [
    "# Visualise relief calculated\n",
    "\n",
    "relief_path = os.path.join(output_dir, 'tif', location_name + \"_relief.tif\")\n",
    "with rasterio.open(relief_path, \"w\", **profile) as dst:\n",
    "    dst.write(relief_data, 1)\n",
    "    print(f\"Relief saved to: {relief_path}\")\n",
    "\n",
    "plt.imshow(relief_data, cmap=\"terrain\")\n",
    "plt.colorbar(label=\"Relief (metres)\")\n",
    "plt.title(\"Relief Map\")\n",
    "plt.show()"
   ]
  }
 ],
 "metadata": {
  "colab": {
   "authorship_tag": "ABX9TyNxeDC6fQKyuEKAekrU4sQl",
   "provenance": []
  },
  "kernelspec": {
   "display_name": "base",
   "language": "python",
   "name": "python3"
  },
  "language_info": {
   "codemirror_mode": {
    "name": "ipython",
    "version": 3
   },
   "file_extension": ".py",
   "mimetype": "text/x-python",
   "name": "python",
   "nbconvert_exporter": "python",
   "pygments_lexer": "ipython3",
   "version": "3.12.3"
  }
 },
 "nbformat": 4,
 "nbformat_minor": 0
}
