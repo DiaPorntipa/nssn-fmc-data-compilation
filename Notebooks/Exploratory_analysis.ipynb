{
 "cells": [
  {
   "cell_type": "code",
   "execution_count": null,
   "metadata": {
    "id": "8AxBq6GTm05O"
   },
   "outputs": [],
   "source": [
    "# Input is the BRMS model input csv file name\n",
    "# file_name = \"barra2_vpd_phd.csv\"\n",
    "# file_name = \"eratos_vpd_phd.csv\"\n",
    "# file_name = \"silo_min_temp_vpd_phd.csv\"\n",
    "file_name = \"silo_max_temp_vpd_phd.csv\""
   ]
  },
  {
   "cell_type": "code",
   "execution_count": null,
   "metadata": {
    "colab": {
     "base_uri": "https://localhost:8080/"
    },
    "executionInfo": {
     "elapsed": 1309,
     "status": "ok",
     "timestamp": 1747380293104,
     "user": {
      "displayName": "Porntipa Poonpolsub",
      "userId": "14089782475563213772"
     },
     "user_tz": -600
    },
    "id": "gRm2rY1z0_Fy",
    "outputId": "81d341e3-d6bd-46b8-9b5e-f71213c6c414"
   },
   "outputs": [],
   "source": [
    "import sys\n",
    "\n",
    "sys.path.append('..')"
   ]
  },
  {
   "cell_type": "code",
   "execution_count": null,
   "metadata": {
    "colab": {
     "base_uri": "https://localhost:8080/"
    },
    "executionInfo": {
     "elapsed": 3,
     "status": "ok",
     "timestamp": 1747380293108,
     "user": {
      "displayName": "Porntipa Poonpolsub",
      "userId": "14089782475563213772"
     },
     "user_tz": -600
    },
    "id": "qycb-aDDlpH4",
    "outputId": "ca6d105a-8c19-4c77-af2f-a026784b9bd7"
   },
   "outputs": [],
   "source": [
    "import re\n",
    "\n",
    "# Get the investigated variable from file name (vpd, soil_mois, sdi, dfmc)\n",
    "pattern = r\"(vpd|soil_mois|sdi|dfmc)\"\n",
    "match = re.search(pattern, file_name, re.IGNORECASE)\n",
    "investigated_variable = match.group(1).lower() if match else None\n",
    "print(\"investigated_variable: \", investigated_variable)\n",
    "\n",
    "# Get remote source and in-situ source from file name\n",
    "remote_source, insitu_source = file_name.split(f\"_{investigated_variable}_\")\n",
    "insitu_source = insitu_source.replace(\".csv\", \"\")\n",
    "print(\"remote_source:\", remote_source)\n",
    "print(\"insitu_source:\", insitu_source)"
   ]
  },
  {
   "cell_type": "code",
   "execution_count": null,
   "metadata": {
    "colab": {
     "base_uri": "https://localhost:8080/",
     "height": 938
    },
    "executionInfo": {
     "elapsed": 1896,
     "status": "ok",
     "timestamp": 1747380295005,
     "user": {
      "displayName": "Porntipa Poonpolsub",
      "userId": "14089782475563213772"
     },
     "user_tz": -600
    },
    "id": "n0IdXZkJqW-F",
    "outputId": "958f6c02-ddd3-4ab2-b97c-5ddb235109ad"
   },
   "outputs": [],
   "source": [
    "import os\n",
    "\n",
    "import matplotlib.pyplot as plt\n",
    "import pandas as pd\n",
    "\n",
    "# Read the csv into df\n",
    "df = pd.read_csv(os.path.join('..', 'output', 'csv', file_name))\n",
    "\n",
    "# Find column names\n",
    "regex = re.compile(investigated_variable, re.IGNORECASE)\n",
    "insitu_column = next(\n",
    "    (col for col in df.columns if regex.search(col) and ~(remote_source in col.lower())), None\n",
    ")\n",
    "remote_column = next(\n",
    "    (col for col in df.columns if regex.search(col) and col != insitu_column), None\n",
    ")\n",
    "print(\"insitu_column: \", insitu_column)\n",
    "print(\"remote_column: \", remote_column)\n",
    "\n",
    "# Plot 6 plots in a figure and save with a clear name\n",
    "fig, axes = plt.subplots(nrows=3, ncols=2, figsize=(9, 9))\n",
    "fig.suptitle(\n",
    "    f'Histograms of each variable in the {insitu_source.upper()} dataset mapped to {remote_source.upper()}',\n",
    "    fontsize=16,\n",
    ")\n",
    "axes = axes.flatten()\n",
    "plot_order = [\n",
    "    insitu_column,\n",
    "    remote_column,\n",
    "    'slope',\n",
    "    'aspect',\n",
    "    'relief',\n",
    "    'veg_cover',\n",
    "]  # , 'veg_cover']\n",
    "\n",
    "for ax, col in zip(axes, plot_order):\n",
    "    ax.hist(df[col], bins=30, color='skyblue', edgecolor='black')\n",
    "    ax.set_xlabel(col)\n",
    "    ax.set_ylabel(\"Frequency\")\n",
    "\n",
    "plt.tight_layout()\n",
    "\n",
    "# Save fig\n",
    "plot_dir = os.path.join('..', 'output', 'csv', 'plots')\n",
    "if not os.path.exists(plot_dir):\n",
    "    os.makedirs(plot_dir)\n",
    "plt.savefig(os.path.join(plot_dir, file_name.replace(\".csv\", \".png\")))\n",
    "\n",
    "plt.show()"
   ]
  },
  {
   "cell_type": "code",
   "execution_count": null,
   "metadata": {
    "id": "MFn0k92C1aqz"
   },
   "outputs": [],
   "source": []
  }
 ],
 "metadata": {
  "colab": {
   "authorship_tag": "ABX9TyNQ8IYnsYRpoJCRKoBlDY/o",
   "provenance": []
  },
  "kernelspec": {
   "display_name": "base",
   "language": "python",
   "name": "python3"
  },
  "language_info": {
   "codemirror_mode": {
    "name": "ipython",
    "version": 3
   },
   "file_extension": ".py",
   "mimetype": "text/x-python",
   "name": "python",
   "nbconvert_exporter": "python",
   "pygments_lexer": "ipython3",
   "version": "3.12.3"
  }
 },
 "nbformat": 4,
 "nbformat_minor": 0
}
