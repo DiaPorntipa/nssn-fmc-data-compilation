{
 "cells": [
  {
   "cell_type": "markdown",
   "metadata": {
    "id": "JirGiJsZrJey"
   },
   "source": [
    "# Start\n",
    "\n",
    "This script prepares hourly Vapor Pressure Deficit (VPD) data from BARRA2 and matches it with VPD from field observations for subsequent analysis."
   ]
  },
  {
   "cell_type": "code",
   "execution_count": null,
   "metadata": {
    "id": "kGkmuT6BVk2I"
   },
   "outputs": [],
   "source": [
    "working_dir = '../..'  # This repository's root directory\n",
    "input_file_name = 'in-situ_topography_pcs.csv'\n",
    "output_file_name = 'barra2_vpd_pcs.csv'\n",
    "\n",
    "download_barra2_data = True  # around 30 min in Colab\n",
    "explore_barra2_data = False"
   ]
  },
  {
   "cell_type": "code",
   "execution_count": null,
   "metadata": {},
   "outputs": [],
   "source": [
    "import os\n",
    "import sys\n",
    "\n",
    "from tqdm import tqdm\n",
    "\n",
    "tqdm.pandas()\n",
    "\n",
    "sys.path.append(working_dir)\n",
    "from Utils.barra2 import *\n",
    "from Utils.datetime import add_UTC_Datetime\n",
    "from Utils.vpd import calculate_vpd\n",
    "\n",
    "barra2_data_dir = os.path.join(working_dir, 'Data', 'barra2')"
   ]
  },
  {
   "cell_type": "markdown",
   "metadata": {
    "id": "B0X0qz24QRle"
   },
   "source": [
    "# Loading in-situ and remote data\n"
   ]
  },
  {
   "cell_type": "code",
   "execution_count": null,
   "metadata": {
    "colab": {
     "base_uri": "https://localhost:8080/",
     "height": 223
    },
    "id": "5lu9eKTyTW92",
    "outputId": "b345e0ef-7eaf-4770-b2ac-71b5901b5a65"
   },
   "outputs": [],
   "source": [
    "# Load in-situ_topography.csv as the main df\n",
    "\n",
    "df = pd.read_csv(os.path.join(working_dir, \"output\", \"csv\", input_file_name))\n",
    "df = df[~df['VPD'].isna()]\n",
    "df['Datetime'] = pd.to_datetime(df['Datetime'])\n",
    "if 'UTC_Datetime' in df.columns:\n",
    "    df['UTC_Datetime'] = pd.to_datetime(df['UTC_Datetime'])\n",
    "else:\n",
    "    df = add_UTC_Datetime(df)\n",
    "\n",
    "first_datetime, last_datetime = min(df['Datetime']), (max(df['Datetime']) + pd.Timedelta(days=1))\n",
    "print(\n",
    "    \"First date: \",\n",
    "    first_datetime.strftime(\"%Y%m%d\"),\n",
    "    \", last date: \",\n",
    "    last_datetime.strftime(\"%Y%m%d\"),\n",
    ")\n",
    "\n",
    "df.head()"
   ]
  },
  {
   "cell_type": "markdown",
   "metadata": {
    "id": "0IB-IrwJcC3w"
   },
   "source": [
    "## Downloading BARRA2 data"
   ]
  },
  {
   "cell_type": "code",
   "execution_count": null,
   "metadata": {
    "colab": {
     "base_uri": "https://localhost:8080/"
    },
    "id": "SieNW-RVXlqp",
    "outputId": "66e3a3f5-9b9e-4302-ffe2-c8810433d378"
   },
   "outputs": [],
   "source": [
    "# Find the nearest barra2 grid for each site\n",
    "\n",
    "barra2_lats, barra2_lons = get_barra2_grid_point(working_dir)\n",
    "df[['barra2_X', 'barra2_Y']] = df.apply(\n",
    "    lambda row: pd.Series(\n",
    "        find_nearest_barra2_grid_point(row['X'], row['Y'], barra2_lons, barra2_lats)\n",
    "    ),\n",
    "    axis=1,\n",
    ")"
   ]
  },
  {
   "cell_type": "code",
   "execution_count": null,
   "metadata": {
    "id": "2OfyRVBPXpWZ"
   },
   "outputs": [],
   "source": [
    "# Download all barra2 data\n",
    "\n",
    "# List all barra2 cells that we want their data\n",
    "barra2_cell_locations_list = list(set((x, y) for x, y in df[['barra2_X', 'barra2_Y']].values))\n",
    "print(\"barra2_cell_locations_list length: \", len(barra2_cell_locations_list))\n",
    "print(\"barra2_cell_locations_list: \", [(str(x), str(y)) for x, y in barra2_cell_locations_list])\n",
    "\n",
    "if download_barra2_data:\n",
    "    vars = ['tas', 'hurs']\n",
    "    download_all_barra2_data(\n",
    "        vars, barra2_cell_locations_list, first_datetime, last_datetime, barra2_data_dir\n",
    "    )"
   ]
  },
  {
   "cell_type": "code",
   "execution_count": null,
   "metadata": {
    "colab": {
     "base_uri": "https://localhost:8080/"
    },
    "id": "OZl3AbZ6BHUP",
    "outputId": "5e691b46-0061-440d-cce9-4a0659937a3a"
   },
   "outputs": [],
   "source": [
    "# # BARRA2 data exploration\n",
    "\n",
    "# if explore_barra2_data:\n",
    "#     barra2_data_dir = os.path.join(working_dir, \"Data\", \"barra2\")\n",
    "#     barra2_df = pd.read_csv(os.path.join(barra2_data_dir, os.listdir(barra2_data_dir)[0]))\n",
    "#     barra2_df.info()"
   ]
  },
  {
   "cell_type": "code",
   "execution_count": null,
   "metadata": {
    "id": "asUcGxsUCV0a"
   },
   "outputs": [],
   "source": [
    "# # BARRA2 netCDF data exploration\n",
    "\n",
    "# import xarray as xr\n",
    "\n",
    "# if explore_barra2_data:\n",
    "#     tas_url = \"https://thredds.nci.org.au/thredds/fileServer/ob53/output/reanalysis/AUST-04/BOM/ERA5/historical/hres/BARRA-C2/v1/1hr/tas/latest/tas_AUST-04_ERA5_historical_hres_BOM_BARRA-C2_v1_1hr_201812-201812.nc\"\n",
    "#     hurs_url = \"https://thredds.nci.org.au/thredds/fileServer/ob53/output/reanalysis/AUST-04/BOM/ERA5/historical/hres/BARRA-C2/v1/1hr/hurs/latest/hurs_AUST-04_ERA5_historical_hres_BOM_BARRA-C2_v1_1hr_201812-201812.nc\"\n",
    "#     !curl -L {tas_url} -o \"barra2_tas.nc\"\n",
    "#     !curl -L {hurs_url} -o \"barra2_hurs.nc\"\n",
    "\n",
    "#     tas_ds = xr.open_dataset(\"barra2_tas.nc\")\n",
    "#     hurs_ds = xr.open_dataset(\"barra2_hurs.nc\")\n",
    "#     tas_ds"
   ]
  },
  {
   "cell_type": "code",
   "execution_count": null,
   "metadata": {
    "id": "PDhZPzhJEiaM"
   },
   "outputs": [],
   "source": [
    "# if explore_barra2_data:\n",
    "#     hurs_ds"
   ]
  },
  {
   "cell_type": "markdown",
   "metadata": {
    "id": "UT6mFyh-PmBY"
   },
   "source": [
    "# Combining in-situ and remote data into a single dataframe"
   ]
  },
  {
   "cell_type": "code",
   "execution_count": null,
   "metadata": {
    "colab": {
     "base_uri": "https://localhost:8080/",
     "height": 1000
    },
    "id": "3hUnOMyNKGMM",
    "outputId": "b991b283-6a60-46bd-badc-c66f62f9fc4c"
   },
   "outputs": [],
   "source": [
    "# For each row, open barra2 data csv file one-by-one to get data (40 min)\n",
    "\n",
    "df['barra2_Temperature'] = df.progress_apply(\n",
    "    lambda row: get_barra2_value(row, 'tas', barra2_data_dir), axis=1\n",
    ")\n",
    "df['barra2_RH'] = df.progress_apply(\n",
    "    lambda row: get_barra2_value(row, 'hurs', barra2_data_dir), axis=1\n",
    ")\n",
    "df.head()"
   ]
  },
  {
   "cell_type": "code",
   "execution_count": null,
   "metadata": {
    "colab": {
     "base_uri": "https://localhost:8080/",
     "height": 86
    },
    "id": "MI3KLC0BRVRn",
    "outputId": "d4cac879-5ff2-4c18-bccb-20d9e9a7688d"
   },
   "outputs": [],
   "source": [
    "# Investigate null values.\n",
    "df[df.isna().any(axis=1)]"
   ]
  },
  {
   "cell_type": "markdown",
   "metadata": {
    "id": "kZaBSFcqP3G3"
   },
   "source": [
    "# Calculating remote VPD from remote temperature and remote relative humidity"
   ]
  },
  {
   "cell_type": "code",
   "execution_count": null,
   "metadata": {},
   "outputs": [],
   "source": [
    "df['barra2_VPD'] = df.apply(\n",
    "    lambda row: calculate_vpd(row['barra2_Temperature'], row['barra2_RH']), axis=1\n",
    ")\n",
    "df.head()"
   ]
  },
  {
   "cell_type": "markdown",
   "metadata": {
    "id": "bm8xvMkaQEWI"
   },
   "source": [
    "# Save the resulting dataframes"
   ]
  },
  {
   "cell_type": "code",
   "execution_count": null,
   "metadata": {
    "id": "7HURGOZDVwjs"
   },
   "outputs": [],
   "source": [
    "df.to_csv(os.path.join(working_dir, \"output\", \"csv\", output_file_name), index=False)"
   ]
  }
 ],
 "metadata": {
  "colab": {
   "authorship_tag": "ABX9TyM7+sr69YX8tC0gcq1MWp55",
   "provenance": []
  },
  "kernelspec": {
   "display_name": "base",
   "language": "python",
   "name": "python3"
  },
  "language_info": {
   "codemirror_mode": {
    "name": "ipython",
    "version": 3
   },
   "file_extension": ".py",
   "mimetype": "text/x-python",
   "name": "python",
   "nbconvert_exporter": "python",
   "pygments_lexer": "ipython3",
   "version": "3.12.3"
  }
 },
 "nbformat": 4,
 "nbformat_minor": 0
}
