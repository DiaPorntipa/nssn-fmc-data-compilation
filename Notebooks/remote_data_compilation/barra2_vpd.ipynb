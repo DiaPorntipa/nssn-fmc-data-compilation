{
 "cells": [
  {
   "cell_type": "markdown",
   "metadata": {
    "id": "JirGiJsZrJey"
   },
   "source": [
    "# Start\n",
    "\n",
    "This script prepares vapor pressure deficit (VPD) data from BARRA2 and matches it with VPD from field observations for subsequent analysis.\n",
    "\n",
    "📄 **What this script does**\n",
    "1. Loads cleaned field data with topography — for example, output from `Nick_phd_data_complilation.ipynb`.\n",
    "2. Downloads and explores **BARRA2 data** (`tas` for temperature and `hurs` for relative humidity) for the grid cells closest to the field sites, spanning from the first to the last month of the field observations.\n",
    "3. Matches BARRA2 temperature and RH values to the field observations based on the nearest grid cell and UTC timestamp.\n",
    "4. Calculates **VPD** (vapor pressure deficit) from the matched BARRA2 temperature and RH.\n",
    "5. Saves the combined field and BARRA2 data as `barra2.csv` in the `output/csv` folder.\n",
    "\n",
    "⚠️ **Important notes**\n",
    "* Before running the script, set all variables in the **first cell**, and delete the **second cell** if not using a Google Colab environment.  \n",
    "  *(The script was developed for use in Google Colab and has not been tested outside of it.)*\n",
    "* The field data timestamps must be in **Australian local time**. The script will convert them to **UTC** before matching with BARRA2 data.\n",
    "* BARRA2's temperature and RH are **instantaneous** readings.\n",
    "* Field observations with **ambiguous timestamps** (e.g., during the daylight saving transition from AEDT to AEST) will be **excluded** from the output.\n",
    "\n",
    "\n"
   ]
  },
  {
   "cell_type": "code",
   "execution_count": null,
   "metadata": {
    "id": "kGkmuT6BVk2I"
   },
   "outputs": [],
   "source": [
    "input_file_name = 'in-situ_topography_phd.csv'\n",
    "output_file_name = 'barra2_vpd_phd.csv'\n",
    "\n",
    "download_barra2_data = False  # around 30 min in Colab\n",
    "explore_barra2_data = False"
   ]
  },
  {
   "cell_type": "code",
   "execution_count": null,
   "metadata": {},
   "outputs": [],
   "source": [
    "import sys\n",
    "sys.path.append('../..')\n",
    "from Utils.vpd import calculate_vpd\n",
    "from Utils.barra2 import *\n",
    "from Utils import add_UTC_Datetime"
   ]
  },
  {
   "cell_type": "markdown",
   "metadata": {
    "id": "B0X0qz24QRle"
   },
   "source": [
    "# Loading in-situ and remote data\n"
   ]
  },
  {
   "cell_type": "code",
   "execution_count": null,
   "metadata": {
    "colab": {
     "base_uri": "https://localhost:8080/",
     "height": 223
    },
    "id": "5lu9eKTyTW92",
    "outputId": "b345e0ef-7eaf-4770-b2ac-71b5901b5a65"
   },
   "outputs": [],
   "source": [
    "# Load in-situ_topography.csv as the main df\n",
    "\n",
    "df = pd.read_csv(os.path.join(\"..\", \"..\", \"output\", \"csv\", input_file_name))\n",
    "df['Datetime'] = pd.to_datetime(df['Datetime'])\n",
    "\n",
    "first_datetime, last_datetime = min(df['Datetime']), (max(df['Datetime']) + pd.Timedelta(days=1))\n",
    "print(\"First date: \", first_datetime.strftime(\"%Y%m%d\"), \", last date: \", last_datetime.strftime(\"%Y%m%d\"))\n",
    "\n",
    "df.head()"
   ]
  },
  {
   "cell_type": "markdown",
   "metadata": {
    "id": "0IB-IrwJcC3w"
   },
   "source": [
    "## Downloading BARRA2 data"
   ]
  },
  {
   "cell_type": "code",
   "execution_count": null,
   "metadata": {
    "colab": {
     "base_uri": "https://localhost:8080/"
    },
    "id": "SieNW-RVXlqp",
    "outputId": "66e3a3f5-9b9e-4302-ffe2-c8810433d378"
   },
   "outputs": [],
   "source": [
    "# Find the nearest barra2 grid for each site\n",
    "\n",
    "barra2_lats, barra2_lons =  get_barra2_grid_point()\n",
    "df[['barra2_X', 'barra2_Y']] = df.apply(\n",
    "    lambda row: pd.Series(find_nearest_barra2_grid_point(row['X'], row['Y'], barra2_lons, barra2_lats)),\n",
    "    axis=1\n",
    ")"
   ]
  },
  {
   "cell_type": "code",
   "execution_count": null,
   "metadata": {
    "id": "2OfyRVBPXpWZ"
   },
   "outputs": [],
   "source": [
    "# Download all barra2 data\n",
    "\n",
    "# List all barra2 cells that we want their data\n",
    "barra2_cell_locations_list = list(set((x, y) for x, y in df[['barra2_X', 'barra2_Y']].values))\n",
    "print(\"barra2_cell_locations_list length: \", len(barra2_cell_locations_list))\n",
    "print(\"barra2_cell_locations_list: \", [(str(x), str(y)) for x, y in barra2_cell_locations_list])\n",
    "\n",
    "if download_barra2_data:\n",
    "    vars = ['tas', 'hurs']\n",
    "    download_all_barra2_data(vars, barra2_cell_locations_list, first_datetime, last_datetime)"
   ]
  },
  {
   "cell_type": "code",
   "execution_count": null,
   "metadata": {
    "colab": {
     "base_uri": "https://localhost:8080/"
    },
    "id": "OZl3AbZ6BHUP",
    "outputId": "5e691b46-0061-440d-cce9-4a0659937a3a"
   },
   "outputs": [],
   "source": [
    "# # BARRA2 data exploration\n",
    "\n",
    "# if explore_barra2_data:\n",
    "#     barra2_data_dir = os.path.join(\"..\", \"..\", \"Data\", \"barra2\")\n",
    "#     barra2_df = pd.read_csv(os.path.join(barra2_data_dir, os.listdir(barra2_data_dir)[0]))\n",
    "#     barra2_df.info()"
   ]
  },
  {
   "cell_type": "code",
   "execution_count": null,
   "metadata": {
    "id": "asUcGxsUCV0a"
   },
   "outputs": [],
   "source": [
    "# # BARRA2 netCDF data exploration\n",
    "\n",
    "# import xarray as xr\n",
    "\n",
    "# if explore_barra2_data:\n",
    "#     tas_url = \"https://thredds.nci.org.au/thredds/fileServer/ob53/output/reanalysis/AUST-04/BOM/ERA5/historical/hres/BARRA-C2/v1/1hr/tas/latest/tas_AUST-04_ERA5_historical_hres_BOM_BARRA-C2_v1_1hr_201812-201812.nc\"\n",
    "#     hurs_url = \"https://thredds.nci.org.au/thredds/fileServer/ob53/output/reanalysis/AUST-04/BOM/ERA5/historical/hres/BARRA-C2/v1/1hr/hurs/latest/hurs_AUST-04_ERA5_historical_hres_BOM_BARRA-C2_v1_1hr_201812-201812.nc\"\n",
    "#     !curl -L {tas_url} -o \"barra2_tas.nc\"\n",
    "#     !curl -L {hurs_url} -o \"barra2_hurs.nc\"\n",
    "\n",
    "#     tas_ds = xr.open_dataset(\"barra2_tas.nc\")\n",
    "#     hurs_ds = xr.open_dataset(\"barra2_hurs.nc\")\n",
    "#     tas_ds"
   ]
  },
  {
   "cell_type": "code",
   "execution_count": null,
   "metadata": {
    "id": "PDhZPzhJEiaM"
   },
   "outputs": [],
   "source": [
    "# if explore_barra2_data:\n",
    "#     hurs_ds"
   ]
  },
  {
   "cell_type": "markdown",
   "metadata": {
    "id": "UT6mFyh-PmBY"
   },
   "source": [
    "# Combining in-situ and remote data into a single dataframe"
   ]
  },
  {
   "cell_type": "code",
   "execution_count": null,
   "metadata": {
    "colab": {
     "base_uri": "https://localhost:8080/",
     "height": 434
    },
    "id": "9-qpPHGjw84H",
    "outputId": "72a5f4e5-cfdc-44b5-d8e6-9919791c6238"
   },
   "outputs": [],
   "source": [
    "# Generate UTC_Datetime for in-situ observations\n",
    "\n",
    "df = add_UTC_Datetime(df)\n",
    "df.head()"
   ]
  },
  {
   "cell_type": "code",
   "execution_count": null,
   "metadata": {
    "colab": {
     "base_uri": "https://localhost:8080/",
     "height": 1000
    },
    "id": "3hUnOMyNKGMM",
    "outputId": "b991b283-6a60-46bd-badc-c66f62f9fc4c"
   },
   "outputs": [],
   "source": [
    "# For each row, open barra2 data csv file one-by-one to get data (40 min)\n",
    "\n",
    "df['barra2_Temperature'] = df.apply(lambda row: get_barra2_value(row, 'tas'), axis=1)\n",
    "df['barra2_RH'] = df.apply(lambda row: get_barra2_value(row, 'hurs'), axis=1)\n",
    "df.head()"
   ]
  },
  {
   "cell_type": "code",
   "execution_count": null,
   "metadata": {
    "colab": {
     "base_uri": "https://localhost:8080/",
     "height": 86
    },
    "id": "MI3KLC0BRVRn",
    "outputId": "d4cac879-5ff2-4c18-bccb-20d9e9a7688d"
   },
   "outputs": [],
   "source": [
    "# Investigate null values.\n",
    "df[df.isna().any(axis=1)]"
   ]
  },
  {
   "cell_type": "markdown",
   "metadata": {
    "id": "kZaBSFcqP3G3"
   },
   "source": [
    "# Calculating remote VPD from remote temperature and remote relative humidity"
   ]
  },
  {
   "cell_type": "code",
   "execution_count": null,
   "metadata": {},
   "outputs": [],
   "source": [
    "df['barra2_VPD'] = df.apply(lambda row: calculate_vpd(row['barra2_Temperature'], row['barra2_RH']), axis=1)\n",
    "df.head()"
   ]
  },
  {
   "cell_type": "markdown",
   "metadata": {
    "id": "bm8xvMkaQEWI"
   },
   "source": [
    "# Save the resulting dataframes"
   ]
  },
  {
   "cell_type": "code",
   "execution_count": null,
   "metadata": {
    "id": "7HURGOZDVwjs"
   },
   "outputs": [],
   "source": [
    "df.to_csv(os.path.join(\"..\", \"..\", \"output\", \"csv\", output_file_name), index=False)"
   ]
  }
 ],
 "metadata": {
  "colab": {
   "authorship_tag": "ABX9TyM7+sr69YX8tC0gcq1MWp55",
   "provenance": []
  },
  "kernelspec": {
   "display_name": "base",
   "language": "python",
   "name": "python3"
  },
  "language_info": {
   "codemirror_mode": {
    "name": "ipython",
    "version": 3
   },
   "file_extension": ".py",
   "mimetype": "text/x-python",
   "name": "python",
   "nbconvert_exporter": "python",
   "pygments_lexer": "ipython3",
   "version": "3.12.3"
  }
 },
 "nbformat": 4,
 "nbformat_minor": 0
}
