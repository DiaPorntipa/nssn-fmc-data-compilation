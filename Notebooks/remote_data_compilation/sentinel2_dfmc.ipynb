{
 "cells": [
  {
   "cell_type": "markdown",
   "metadata": {
    "colab_type": "text",
    "id": "view-in-github"
   },
   "source": [
    "<a href=\"https://colab.research.google.com/github/DiaPorntipa/Bushfire_data_analytics/blob/main/Acclimatised_data_compilation.ipynb\" target=\"_parent\"><img src=\"https://colab.research.google.com/assets/colab-badge.svg\" alt=\"Open In Colab\"/></a>"
   ]
  },
  {
   "cell_type": "code",
   "execution_count": null,
   "metadata": {
    "id": "kGkmuT6BVk2I"
   },
   "outputs": [],
   "source": [
    "working_dir = '../..'  # This repository's root directory\n",
    "input_file_name = 'in-situ_topography_pcs.csv'\n",
    "daily_min_output_file_name = 'sentinel2_dfmc_pcs_min_dfmc.csv'\n",
    "nearest_time_output_file_name = 'sentinel2_dfmc_pcs_nearest_time.csv'\n",
    "\n",
    "sentinel2_path = 'Data/sentinel2/FMC_actparks_forest_corp_sites_DEA_fmc_est.csv'"
   ]
  },
  {
   "cell_type": "code",
   "execution_count": null,
   "metadata": {
    "colab": {
     "base_uri": "https://localhost:8080/"
    },
    "id": "PWAPFPlBVr4n",
    "outputId": "28f59dac-345a-43bf-c479-b0c2e41ad308"
   },
   "outputs": [],
   "source": [
    "import sys\n",
    "\n",
    "sys.path.append(working_dir)\n",
    "import os\n",
    "\n",
    "from tqdm import tqdm\n",
    "\n",
    "tqdm.pandas()\n",
    "import pandas as pd\n",
    "\n",
    "from Utils.daily_minmax import get_daily_extreme_observation\n",
    "from Utils.datetime import add_UTC_Datetime"
   ]
  },
  {
   "cell_type": "markdown",
   "metadata": {
    "id": "u_9a1Y7no1QX"
   },
   "source": [
    "# Loading in-situ data\n"
   ]
  },
  {
   "cell_type": "code",
   "execution_count": null,
   "metadata": {
    "colab": {
     "base_uri": "https://localhost:8080/",
     "height": 223
    },
    "id": "5lu9eKTyTW92",
    "outputId": "cb89f6db-b9b9-4130-f8cb-67753cbbb755"
   },
   "outputs": [],
   "source": [
    "# Load in-situ_topography.csv as the main df\n",
    "\n",
    "df = pd.read_csv(os.path.join(working_dir, \"output\", \"csv\", input_file_name))\n",
    "df = df[~df['DFMC'].isna()]\n",
    "df['Datetime'] = pd.to_datetime(df['Datetime'])\n",
    "if 'UTC_Datetime' in df.columns:\n",
    "    df['UTC_Datetime'] = pd.to_datetime(df['UTC_Datetime'])\n",
    "else:\n",
    "    df = add_UTC_Datetime(df)\n",
    "df.head()"
   ]
  },
  {
   "cell_type": "markdown",
   "metadata": {
    "id": "pl_98DiIWL40"
   },
   "source": [
    "# Loading Sentinel-2 data"
   ]
  },
  {
   "cell_type": "code",
   "execution_count": null,
   "metadata": {
    "colab": {
     "base_uri": "https://localhost:8080/",
     "height": 666
    },
    "id": "ygjB2CKnWTgh",
    "outputId": "b2bbfc37-621e-46f9-d4a8-dd640e8ca464"
   },
   "outputs": [],
   "source": [
    "sentinel2_data_dir = os.path.join(working_dir, sentinel2_path)\n",
    "sentinel2_df = pd.read_csv(sentinel2_data_dir)\n",
    "sentinel2_df.head()"
   ]
  },
  {
   "cell_type": "markdown",
   "metadata": {
    "id": "UT6mFyh-PmBY"
   },
   "source": [
    "# Combining in-situ and remote data into a single dataframe"
   ]
  },
  {
   "cell_type": "code",
   "execution_count": null,
   "metadata": {},
   "outputs": [],
   "source": [
    "# Selecting only obs with has the daily min dfmc value\n",
    "\n",
    "variable = 'DFMC'\n",
    "date_column_name = 'sentinel2_observation_date'\n",
    "df[date_column_name] = df['Datetime'].dt.date\n",
    "df_min_dfmc = get_daily_extreme_observation(df, variable, date_column_name, option='min')\n",
    "df_min_dfmc.head()"
   ]
  },
  {
   "cell_type": "code",
   "execution_count": null,
   "metadata": {},
   "outputs": [],
   "source": [
    "# Select the first observations if there are multiple ones that has daily minimum dfmc\n",
    "\n",
    "df_min_dfmc = df_min_dfmc.loc[\n",
    "    df_min_dfmc.groupby(['SiteID', 'sentinel2_observation_date'])['Datetime'].idxmin()\n",
    "]\n",
    "df_min_dfmc.head()"
   ]
  },
  {
   "cell_type": "code",
   "execution_count": null,
   "metadata": {},
   "outputs": [],
   "source": [
    "# TODO (HIGH): Make df_nearest_time, consisting of one nearest site obs to one Sentinel-2 obs\n",
    "df_nearest_time"
   ]
  },
  {
   "cell_type": "code",
   "execution_count": null,
   "metadata": {
    "colab": {
     "base_uri": "https://localhost:8080/",
     "height": 1000
    },
    "id": "ML2LZQCp0Qw8",
    "outputId": "298c89dd-8b69-4a94-ca79-147d4dc1106c"
   },
   "outputs": [],
   "source": [
    "# Fill in df_min_dfmc with sentinel2 data\n",
    "\n",
    "\n",
    "# For each row, open sentinel2 data csv file one-by-one to get data\n",
    "def get_sentinel2_value(row, sentinel2_df):\n",
    "    # TODO (HIGH):\n",
    "\n",
    "    return\n",
    "    # SiteID_str = str(row['SiteID'])\n",
    "    # SiteID_str = ''.join(c for c in SiteID_str if c.isdigit())\n",
    "\n",
    "    # target_time = row['UTC_Datetime'].round('1d').strftime('%Y-%m-%d')\n",
    "    # sentinel2_value = sentinel2_df.loc[sentinel2_df['Date'] == target_time, SiteID_str].values[0]\n",
    "\n",
    "    # return sentinel2_value\n",
    "\n",
    "\n",
    "df_min_dfmc['sentinel2_DFMC'] = df_min_dfmc.progress_apply(\n",
    "    lambda row: get_sentinel2_value(row, sentinel2_df), axis=1\n",
    ")\n",
    "df_min_dfmc.head()"
   ]
  },
  {
   "cell_type": "code",
   "execution_count": null,
   "metadata": {
    "colab": {
     "base_uri": "https://localhost:8080/",
     "height": 70
    },
    "id": "MI3KLC0BRVRn",
    "outputId": "0c313e62-d3bd-432d-93fc-a07aacae942f"
   },
   "outputs": [],
   "source": [
    "# Investigate the result - There are only NaNs in veg_cover column\n",
    "df_min_dfmc[df_min_dfmc['sentinel2_DFMC'].isna()]"
   ]
  },
  {
   "cell_type": "code",
   "execution_count": null,
   "metadata": {},
   "outputs": [],
   "source": [
    "# Investigate the result - There are only NaNs in veg_cover column\n",
    "df_nearest_time[df_nearest_time['sentinel2_DFMC'].isna()]"
   ]
  },
  {
   "cell_type": "markdown",
   "metadata": {
    "id": "bm8xvMkaQEWI"
   },
   "source": [
    "# Save the resulting dataframes"
   ]
  },
  {
   "cell_type": "code",
   "execution_count": null,
   "metadata": {
    "id": "7HURGOZDVwjs"
   },
   "outputs": [],
   "source": [
    "df_min_dfmc.to_csv(\n",
    "    os.path.join(working_dir, \"output\", \"csv\", daily_min_output_file_name), index=False\n",
    ")\n",
    "df_nearest_time.to_csv(\n",
    "    os.path.join(working_dir, \"output\", \"csv\", nearest_time_output_file_name), index=False\n",
    ")"
   ]
  },
  {
   "cell_type": "code",
   "execution_count": null,
   "metadata": {},
   "outputs": [],
   "source": []
  }
 ],
 "metadata": {
  "colab": {
   "authorship_tag": "ABX9TyNQojQ/NZ5MqXQ6drXfHk0M",
   "include_colab_link": true,
   "provenance": []
  },
  "kernelspec": {
   "display_name": "base",
   "language": "python",
   "name": "python3"
  },
  "language_info": {
   "codemirror_mode": {
    "name": "ipython",
    "version": 3
   },
   "file_extension": ".py",
   "mimetype": "text/x-python",
   "name": "python",
   "nbconvert_exporter": "python",
   "pygments_lexer": "ipython3",
   "version": "3.12.3"
  }
 },
 "nbformat": 4,
 "nbformat_minor": 0
}
