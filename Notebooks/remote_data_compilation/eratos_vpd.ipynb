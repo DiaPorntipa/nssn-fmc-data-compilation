{
 "cells": [
  {
   "cell_type": "markdown",
   "metadata": {
    "id": "f9MJocir9tJU"
   },
   "source": [
    "# Start\n",
    "\n",
    "\n",
    "This script prepares houly Vapor Pressure Deficit (VPD) data from ERATOS and matches it with VPD from field observations for subsequent analysis.\n"
   ]
  },
  {
   "cell_type": "code",
   "execution_count": null,
   "metadata": {
    "id": "kGkmuT6BVk2I"
   },
   "outputs": [],
   "source": [
    "working_dir = '../..'  # This repository's root directory\n",
    "input_file_name = 'in-situ_topography_fc.csv'\n",
    "output_file_name = 'eratos_vpd_fc.csv'\n",
    "\n",
    "eratos_rh_path = 'Data/eratos/ANU_CombinedSites_RH.csv'\n",
    "eratos_temp_path = 'Data/eratos/ANU_CombinedSites_Temp.csv'\n",
    "eratos_sdi_path = 'Data/eratos/ANU_CombinedSites_SDI.csv'  # daily"
   ]
  },
  {
   "cell_type": "code",
   "execution_count": null,
   "metadata": {
    "colab": {
     "base_uri": "https://localhost:8080/"
    },
    "id": "PWAPFPlBVr4n",
    "outputId": "28f59dac-345a-43bf-c479-b0c2e41ad308"
   },
   "outputs": [],
   "source": [
    "import sys\n",
    "\n",
    "sys.path.append(working_dir)\n",
    "import os\n",
    "\n",
    "from tqdm import tqdm\n",
    "\n",
    "tqdm.pandas()\n",
    "import numpy as np\n",
    "import pandas as pd\n",
    "\n",
    "from Utils.datetime import add_UTC_Datetime\n",
    "from Utils.vpd import calculate_vpd"
   ]
  },
  {
   "cell_type": "markdown",
   "metadata": {
    "id": "u_9a1Y7no1QX"
   },
   "source": [
    "# Loading in-situ data\n"
   ]
  },
  {
   "cell_type": "code",
   "execution_count": null,
   "metadata": {
    "colab": {
     "base_uri": "https://localhost:8080/",
     "height": 223
    },
    "id": "5lu9eKTyTW92",
    "outputId": "cb89f6db-b9b9-4130-f8cb-67753cbbb755"
   },
   "outputs": [],
   "source": [
    "# Load in-situ_topography.csv as the main df\n",
    "\n",
    "df = pd.read_csv(os.path.join(working_dir, \"output\", \"csv\", input_file_name))\n",
    "# df = df[~df['VPD'].isna()]\n",
    "df['Datetime'] = pd.to_datetime(df['Datetime'])\n",
    "if 'UTC_Datetime' in df.columns:\n",
    "    df['UTC_Datetime'] = pd.to_datetime(df['UTC_Datetime'])\n",
    "else:\n",
    "    df = add_UTC_Datetime(df)\n",
    "df.head()"
   ]
  },
  {
   "cell_type": "markdown",
   "metadata": {
    "id": "pl_98DiIWL40"
   },
   "source": [
    "# Loading ERATOS data"
   ]
  },
  {
   "cell_type": "code",
   "execution_count": null,
   "metadata": {
    "colab": {
     "base_uri": "https://localhost:8080/",
     "height": 666
    },
    "id": "ygjB2CKnWTgh",
    "outputId": "b2bbfc37-621e-46f9-d4a8-dd640e8ca464"
   },
   "outputs": [],
   "source": [
    "eratos_rh_data_dir = os.path.join(working_dir, eratos_rh_path)\n",
    "eratos_rh_df = pd.read_csv(eratos_rh_data_dir)\n",
    "eratos_rh_df.head()"
   ]
  },
  {
   "cell_type": "code",
   "execution_count": null,
   "metadata": {},
   "outputs": [],
   "source": [
    "eratos_temp_data_dir = os.path.join(working_dir, eratos_temp_path)\n",
    "eratos_temp_df = pd.read_csv(eratos_temp_data_dir)\n",
    "eratos_temp_df.head()"
   ]
  },
  {
   "cell_type": "markdown",
   "metadata": {
    "id": "UT6mFyh-PmBY"
   },
   "source": [
    "# Combining in-situ and remote data into a single dataframe"
   ]
  },
  {
   "cell_type": "code",
   "execution_count": null,
   "metadata": {
    "colab": {
     "base_uri": "https://localhost:8080/",
     "height": 1000
    },
    "id": "ML2LZQCp0Qw8",
    "outputId": "298c89dd-8b69-4a94-ca79-147d4dc1106c"
   },
   "outputs": [],
   "source": [
    "# Fill in df with eratos data\n",
    "\n",
    "\n",
    "# For each row, open eratos data csv file one-by-one to get data\n",
    "def get_eratos_value(row, eratos_df):\n",
    "    SiteID_str = str(row['SiteID'])\n",
    "    SiteID_str = ''.join(c for c in SiteID_str if c.isdigit())\n",
    "\n",
    "    target_time = row['UTC_Datetime'].round('1h').strftime('%Y-%m-%d %H:%M:%S')\n",
    "    try:\n",
    "        eratos_value = eratos_df.loc[eratos_df['Date_time'] == target_time, SiteID_str].values[0]\n",
    "        return eratos_value\n",
    "    except (IndexError, KeyError):\n",
    "        return np.nan\n",
    "\n",
    "\n",
    "df['eratos_Temperature'] = df.progress_apply(\n",
    "    lambda row: get_eratos_value(row, eratos_temp_df), axis=1\n",
    ")\n",
    "df['eratos_RH'] = df.progress_apply(lambda row: get_eratos_value(row, eratos_rh_df), axis=1)\n",
    "df.head()"
   ]
  },
  {
   "cell_type": "code",
   "execution_count": null,
   "metadata": {
    "colab": {
     "base_uri": "https://localhost:8080/",
     "height": 70
    },
    "id": "MI3KLC0BRVRn",
    "outputId": "0c313e62-d3bd-432d-93fc-a07aacae942f"
   },
   "outputs": [],
   "source": [
    "# Investigate the result - There are only NaNs in veg_cover column\n",
    "df[df.isna().any(axis=1)]"
   ]
  },
  {
   "cell_type": "markdown",
   "metadata": {
    "id": "kZaBSFcqP3G3"
   },
   "source": [
    "# Calculating remote VPD from remote temperature and remote relative humidity"
   ]
  },
  {
   "cell_type": "code",
   "execution_count": null,
   "metadata": {
    "colab": {
     "base_uri": "https://localhost:8080/",
     "height": 434
    },
    "id": "hpDDwg6tBYPG",
    "outputId": "4c6e1432-1e24-473f-95b1-37092d4414fc"
   },
   "outputs": [],
   "source": [
    "df['eratos_VPD'] = df.apply(\n",
    "    lambda row: calculate_vpd(row['eratos_Temperature'], row['eratos_RH']), axis=1\n",
    ")\n",
    "df.head()"
   ]
  },
  {
   "cell_type": "markdown",
   "metadata": {
    "id": "bm8xvMkaQEWI"
   },
   "source": [
    "# Save the resulting dataframes"
   ]
  },
  {
   "cell_type": "code",
   "execution_count": null,
   "metadata": {
    "id": "7HURGOZDVwjs"
   },
   "outputs": [],
   "source": [
    "df = df[~df['eratos_VPD'].isna()]\n",
    "df.to_csv(os.path.join(working_dir, \"output\", \"csv\", output_file_name), index=False)"
   ]
  },
  {
   "cell_type": "code",
   "execution_count": null,
   "metadata": {},
   "outputs": [],
   "source": []
  }
 ],
 "metadata": {
  "colab": {
   "authorship_tag": "ABX9TyNQojQ/NZ5MqXQ6drXfHk0M",
   "include_colab_link": true,
   "provenance": []
  },
  "kernelspec": {
   "display_name": "base",
   "language": "python",
   "name": "python3"
  },
  "language_info": {
   "codemirror_mode": {
    "name": "ipython",
    "version": 3
   },
   "file_extension": ".py",
   "mimetype": "text/x-python",
   "name": "python",
   "nbconvert_exporter": "python",
   "pygments_lexer": "ipython3",
   "version": "3.12.3"
  }
 },
 "nbformat": 4,
 "nbformat_minor": 0
}
