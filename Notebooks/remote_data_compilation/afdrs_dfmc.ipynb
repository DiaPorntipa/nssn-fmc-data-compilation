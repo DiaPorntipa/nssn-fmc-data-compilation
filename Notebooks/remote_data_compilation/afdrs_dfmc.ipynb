{
 "cells": [
  {
   "cell_type": "code",
   "execution_count": null,
   "id": "0",
   "metadata": {},
   "outputs": [],
   "source": [
    "working_dir = '../..'  # This repository's root directory\n",
    "input_file_name = 'in-situ_topography_pcs.csv'\n",
    "output_file_name = 'afdrs_dfmc_pcs.csv'\n",
    "\n",
    "afdrs_path = 'Data/afdrs/ACT_Extractions_t_rh.csv'"
   ]
  },
  {
   "cell_type": "code",
   "execution_count": null,
   "id": "1",
   "metadata": {},
   "outputs": [],
   "source": [
    "import sys\n",
    "\n",
    "sys.path.append(working_dir)\n",
    "import os\n",
    "\n",
    "from tqdm import tqdm\n",
    "\n",
    "tqdm.pandas()\n",
    "import numpy as np\n",
    "import pandas as pd\n",
    "\n",
    "from Utils.datetime import add_UTC_Datetime\n",
    "from Utils.vpd import calculate_vpd"
   ]
  },
  {
   "cell_type": "markdown",
   "id": "2",
   "metadata": {},
   "source": [
    "# Loading in-situ data\n"
   ]
  },
  {
   "cell_type": "code",
   "execution_count": null,
   "id": "3",
   "metadata": {},
   "outputs": [],
   "source": [
    "# Load in-situ_topography.csv as the main df\n",
    "\n",
    "df = pd.read_csv(os.path.join(working_dir, \"output\", \"csv\", input_file_name))\n",
    "df = df[~df['DFMC'].isna()]\n",
    "df['Datetime'] = pd.to_datetime(df['Datetime'])\n",
    "if 'UTC_Datetime' in df.columns:\n",
    "    df['UTC_Datetime'] = pd.to_datetime(df['UTC_Datetime'])\n",
    "else:\n",
    "    df = add_UTC_Datetime(df)\n",
    "df.head()"
   ]
  },
  {
   "cell_type": "markdown",
   "id": "4",
   "metadata": {},
   "source": [
    "# Loading AFDRS data"
   ]
  },
  {
   "cell_type": "code",
   "execution_count": null,
   "id": "5",
   "metadata": {},
   "outputs": [],
   "source": [
    "afdrs_data_dir = os.path.join(working_dir, afdrs_path)\n",
    "afdrs_df = pd.read_csv(afdrs_data_dir)\n",
    "afdrs_df.head()"
   ]
  },
  {
   "cell_type": "code",
   "execution_count": null,
   "id": "6",
   "metadata": {},
   "outputs": [],
   "source": [
    "# Add SiteID using all_sites_latlon_dates.csv\n",
    "site_df = pd.read_csv(os.path.join(working_dir, 'Data', 'all_sites_latlon_dates.csv'))\n",
    "site_df"
   ]
  },
  {
   "cell_type": "code",
   "execution_count": null,
   "id": "7",
   "metadata": {},
   "outputs": [],
   "source": [
    "afdrs_df = afdrs_df.merge(\n",
    "    site_df[['SiteID', 'Stn_lat', 'Stn_long']],\n",
    "    left_on=['latitude', 'longitude'],\n",
    "    right_on=['Stn_lat', 'Stn_long'],\n",
    ")\n",
    "afdrs_df.head()"
   ]
  },
  {
   "cell_type": "markdown",
   "id": "8",
   "metadata": {},
   "source": [
    "# Combining in-situ and remote data into a single dataframe"
   ]
  },
  {
   "cell_type": "code",
   "execution_count": null,
   "id": "9",
   "metadata": {},
   "outputs": [],
   "source": [
    "# Prepare the original df\n",
    "df['rounded_time'] = df['UTC_Datetime'].dt.round('1h').dt.strftime('%Y-%m-%dT%H:%M:%SZ')\n",
    "\n",
    "# Merge on both SiteID and time\n",
    "df = df.merge(\n",
    "    afdrs_df[['SiteID', 'time', 'T_SFC', 'RH_SFC']],\n",
    "    left_on=['SiteID', 'rounded_time'],\n",
    "    right_on=['SiteID', 'time'],\n",
    "    how='inner',\n",
    ")\n",
    "\n",
    "df.rename(columns={'T_SFC': 'afdrs_Temperature', 'RH_SFC': 'afdrs_RH'}, inplace=True)\n",
    "df.head()"
   ]
  },
  {
   "cell_type": "code",
   "execution_count": null,
   "id": "10",
   "metadata": {},
   "outputs": [],
   "source": [
    "# Fill in df with afdrs data - the function below is taking too long\n",
    "\n",
    "\n",
    "# # For each row, open afdrs data csv file one-by-one to get data\n",
    "# def get_afdrs_value(row, afdrs_df):\n",
    "#     SiteID_str = str(row['SiteID'])\n",
    "\n",
    "#     target_time = row['UTC_Datetime'].round('1h').strftime('%Y-%m-%dT%H:%M:%SZ')\n",
    "#     filtered = afdrs_df[(afdrs_df['time'] == target_time) & (afdrs_df['SiteID'] == SiteID_str)]\n",
    "\n",
    "#     if not filtered.empty:\n",
    "#         afdrs_temp = filtered['T_SFC'].iloc[0]\n",
    "#         afdrs_rh = filtered['RH_SFC'].iloc[0]\n",
    "#         return pd.Series([afdrs_temp, afdrs_rh])\n",
    "#     else:\n",
    "#         return pd.Series([np.nan, np.nan])\n",
    "\n",
    "\n",
    "# df[['afdrs_Temperature', 'afdrs_RH']] = df.progress_apply(lambda row: get_afdrs_value(row, afdrs_df), axis=1)\n",
    "# df.head()"
   ]
  },
  {
   "cell_type": "code",
   "execution_count": null,
   "id": "11",
   "metadata": {},
   "outputs": [],
   "source": [
    "# Investigate the result - There are only NaNs in veg_cover column\n",
    "df[df.isna().any(axis=1)]"
   ]
  },
  {
   "cell_type": "code",
   "execution_count": null,
   "id": "12",
   "metadata": {},
   "outputs": [],
   "source": [
    "# Clean rows with no afdrs_Temperature or afdrs_RH\n",
    "df = df[(~df['afdrs_Temperature'].isna()) & (~df['afdrs_RH'].isna())]\n",
    "df[df.isna().any(axis=1)]"
   ]
  },
  {
   "cell_type": "markdown",
   "id": "13",
   "metadata": {},
   "source": [
    "# Calculating remote DFMC from remote temperature and remote relative humidity"
   ]
  },
  {
   "cell_type": "code",
   "execution_count": null,
   "id": "14",
   "metadata": {},
   "outputs": [],
   "source": [
    "def calculate_dfmc(temp, rh):\n",
    "    return np.nan  # TODO (HIGH):\n",
    "\n",
    "\n",
    "df['afdrs_DFMC'] = df.apply(\n",
    "    lambda row: calculate_dfmc(row['afdrs_Temperature'], row['afdrs_RH']), axis=1\n",
    ")\n",
    "df.head()"
   ]
  },
  {
   "cell_type": "markdown",
   "id": "15",
   "metadata": {},
   "source": [
    "# Save the resulting dataframes"
   ]
  },
  {
   "cell_type": "code",
   "execution_count": null,
   "id": "16",
   "metadata": {},
   "outputs": [],
   "source": [
    "df.to_csv(os.path.join(working_dir, \"output\", \"csv\", output_file_name), index=False)"
   ]
  },
  {
   "cell_type": "code",
   "execution_count": null,
   "id": "17",
   "metadata": {},
   "outputs": [],
   "source": []
  }
 ],
 "metadata": {
  "kernelspec": {
   "display_name": "base",
   "language": "python",
   "name": "python3"
  },
  "language_info": {
   "codemirror_mode": {
    "name": "ipython",
    "version": 3
   },
   "file_extension": ".py",
   "mimetype": "text/x-python",
   "name": "python",
   "nbconvert_exporter": "python",
   "pygments_lexer": "ipython3",
   "version": "3.12.3"
  }
 },
 "nbformat": 4,
 "nbformat_minor": 5
}
