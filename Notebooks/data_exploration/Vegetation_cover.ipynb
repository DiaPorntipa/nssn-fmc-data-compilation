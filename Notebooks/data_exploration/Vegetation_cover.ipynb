{
 "cells": [
  {
   "cell_type": "code",
   "execution_count": null,
   "metadata": {
    "colab": {
     "base_uri": "https://localhost:8080/"
    },
    "executionInfo": {
     "elapsed": 22425,
     "status": "ok",
     "timestamp": 1747810101989,
     "user": {
      "displayName": "Porntipa Poonpolsub",
      "userId": "14089782475563213772"
     },
     "user_tz": -600
    },
    "id": "Pif57vbag8Tz",
    "outputId": "4a4a322e-45d4-4d0c-8246-7b74675771e0"
   },
   "outputs": [],
   "source": [
    "# Connect to Google Drive\n",
    "\n",
    "from google.colab import drive\n",
    "\n",
    "drive.mount('/content/drive')"
   ]
  },
  {
   "cell_type": "markdown",
   "metadata": {
    "id": "46PRxn04lIaq"
   },
   "source": [
    "# Explore in-situ sites"
   ]
  },
  {
   "cell_type": "code",
   "execution_count": null,
   "metadata": {
    "colab": {
     "base_uri": "https://localhost:8080/",
     "height": 770
    },
    "executionInfo": {
     "elapsed": 39,
     "status": "ok",
     "timestamp": 1747810520115,
     "user": {
      "displayName": "Porntipa Poonpolsub",
      "userId": "14089782475563213772"
     },
     "user_tz": -600
    },
    "id": "N_5Bempjn_lf",
    "outputId": "6c38b38b-18ed-4712-b26f-39b49a2cb395"
   },
   "outputs": [],
   "source": [
    "import os\n",
    "\n",
    "import matplotlib.pyplot as plt\n",
    "import pandas as pd\n",
    "\n",
    "# Load the data from CSV\n",
    "act_forest_sites_file_name = 'sites_latlon_dates_act_park_forest_corp.csv'\n",
    "working_dir = \"/content/drive/My Drive/Work/2025.04 ANU Bushfire\"\n",
    "df = pd.read_csv(os.path.join(working_dir, \"output\", \"csv\", act_forest_sites_file_name))\n",
    "df"
   ]
  },
  {
   "cell_type": "code",
   "execution_count": null,
   "metadata": {
    "colab": {
     "base_uri": "https://localhost:8080/",
     "height": 487
    },
    "executionInfo": {
     "elapsed": 216,
     "status": "ok",
     "timestamp": 1747810908017,
     "user": {
      "displayName": "Porntipa Poonpolsub",
      "userId": "14089782475563213772"
     },
     "user_tz": -600
    },
    "id": "rwfUlzLbmVhA",
    "outputId": "1186266f-d324-4f7a-8b1d-9f6fd8c57654"
   },
   "outputs": [],
   "source": [
    "# Divide ACT Park data into two groups: row 9 and the rest\n",
    "\n",
    "# Split the data into ACT Park and Forestry Corp\n",
    "act_park = df[df['Source'] == 'ACT Park']\n",
    "forestry_corp = df[df['Source'] == 'Forestry Corp']\n",
    "\n",
    "# Create the plot\n",
    "plt.figure(figsize=(12, 8))\n",
    "\n",
    "# Plot ACT Park points in red\n",
    "plt.scatter(act_park['Stn_long'], act_park['Stn_lat'], color='red', label='ACT Park', s=50)\n",
    "\n",
    "# Plot Forestry Corp points in blue\n",
    "plt.scatter(\n",
    "    forestry_corp['Stn_long'], forestry_corp['Stn_lat'], color='blue', label='Forestry Corp', s=50\n",
    ")\n",
    "\n",
    "# Add labels and title\n",
    "plt.xlabel('Longitude')\n",
    "plt.ylabel('Latitude')\n",
    "plt.title('Geographical Distribution of ACT Park and Forestry Corp Sites')\n",
    "plt.legend()\n",
    "\n",
    "# Optional: Adjust grid and layout\n",
    "plt.grid(True, linestyle='--', alpha=0.7)\n",
    "plt.tight_layout()\n",
    "\n",
    "# Show the plot\n",
    "plt.show()"
   ]
  },
  {
   "cell_type": "code",
   "execution_count": null,
   "metadata": {
    "colab": {
     "base_uri": "https://localhost:8080/"
    },
    "executionInfo": {
     "elapsed": 13,
     "status": "ok",
     "timestamp": 1747810494214,
     "user": {
      "displayName": "Porntipa Poonpolsub",
      "userId": "14089782475563213772"
     },
     "user_tz": -600
    },
    "id": "Cd98_xO0noI-",
    "outputId": "4c6ff268-64b8-453b-a693-d10bfca742b1"
   },
   "outputs": [],
   "source": [
    "act_park['Stn_long'].max()"
   ]
  },
  {
   "cell_type": "markdown",
   "metadata": {
    "id": "ABoEtjltnWVt"
   },
   "source": [
    "# veg_cover investigation"
   ]
  },
  {
   "cell_type": "markdown",
   "metadata": {
    "id": "wTDYLX7bnfN9"
   },
   "source": [
    "## Reading data"
   ]
  },
  {
   "cell_type": "code",
   "execution_count": null,
   "metadata": {
    "colab": {
     "base_uri": "https://localhost:8080/",
     "height": 597
    },
    "executionInfo": {
     "elapsed": 3816,
     "status": "ok",
     "timestamp": 1747786945475,
     "user": {
      "displayName": "Porntipa Poonpolsub",
      "userId": "14089782475563213772"
     },
     "user_tz": -600
    },
    "id": "1KeCcnBbTppi",
    "outputId": "fbffd8aa-db23-4c2d-eadf-8673ae58a8b0"
   },
   "outputs": [],
   "source": [
    "# Read site data\n",
    "\n",
    "import os\n",
    "\n",
    "import pandas as pd\n",
    "\n",
    "file_name = \"in-situ_topography_phd.csv\"\n",
    "working_dir = \"/content/drive/My Drive/Work/2025.04 ANU Bushfire\"\n",
    "\n",
    "df = pd.read_csv(os.path.join(working_dir, \"output\", \"csv\", file_name))\n",
    "df"
   ]
  },
  {
   "cell_type": "code",
   "execution_count": null,
   "metadata": {
    "colab": {
     "base_uri": "https://localhost:8080/",
     "height": 338
    },
    "executionInfo": {
     "elapsed": 5273,
     "status": "ok",
     "timestamp": 1747786950750,
     "user": {
      "displayName": "Porntipa Poonpolsub",
      "userId": "14089782475563213772"
     },
     "user_tz": -600
    },
    "id": "gXK9tGaXh04T",
    "outputId": "0e302a4b-879b-4413-e7ef-6c479927441a"
   },
   "outputs": [],
   "source": [
    "# Load veg cover NetCFD\n",
    "\n",
    "import xarray as xr\n",
    "\n",
    "veg_cover_data_path = os.path.join(working_dir, \"Data\", \"Vegetation_cover\", \"veg_cover_phd.nc\")\n",
    "veg_ds = xr.open_dataset(veg_cover_data_path)\n",
    "print(\n",
    "    \"The actual crs of the veg_ds is EPSG:32754. The attribute was incorrectly saved when downloading the data.\"\n",
    ")\n",
    "veg_ds"
   ]
  },
  {
   "cell_type": "markdown",
   "metadata": {
    "id": "ts_AhAiyNkOz"
   },
   "source": [
    "## Investigation"
   ]
  },
  {
   "cell_type": "code",
   "execution_count": null,
   "metadata": {
    "colab": {
     "base_uri": "https://localhost:8080/"
    },
    "executionInfo": {
     "elapsed": 3,
     "status": "ok",
     "timestamp": 1747786950759,
     "user": {
      "displayName": "Porntipa Poonpolsub",
      "userId": "14089782475563213772"
     },
     "user_tz": -600
    },
    "id": "9ybE8-3Zg-Fi",
    "outputId": "668a21fa-b527-41df-baac-a49018b319a7"
   },
   "outputs": [],
   "source": [
    "# Investigate NaNs in veg_cover\n",
    "\n",
    "df[df['veg_cover'].isna()]['SiteID'].unique()  # 14 sites"
   ]
  },
  {
   "cell_type": "code",
   "execution_count": null,
   "metadata": {
    "colab": {
     "base_uri": "https://localhost:8080/"
    },
    "executionInfo": {
     "elapsed": 13,
     "status": "ok",
     "timestamp": 1747786950773,
     "user": {
      "displayName": "Porntipa Poonpolsub",
      "userId": "14089782475563213772"
     },
     "user_tz": -600
    },
    "id": "yeFVoasMhUIz",
    "outputId": "69baf0da-44d3-4f3e-f69c-625a1a65a8f5"
   },
   "outputs": [],
   "source": [
    "# Investigate whether all veg_cover in df for those sites are NaNs - Yes\n",
    "\n",
    "df[df['SiteID'] == 92]['veg_cover'].unique()\n",
    "df[df['SiteID'] == 284]['veg_cover'].unique()"
   ]
  },
  {
   "cell_type": "code",
   "execution_count": null,
   "metadata": {
    "colab": {
     "base_uri": "https://localhost:8080/"
    },
    "executionInfo": {
     "elapsed": 31965,
     "status": "ok",
     "timestamp": 1747786982739,
     "user": {
      "displayName": "Porntipa Poonpolsub",
      "userId": "14089782475563213772"
     },
     "user_tz": -600
    },
    "id": "9-le9otDiSKT",
    "outputId": "c268dabf-ca75-4f75-f115-4cb48ff59e19"
   },
   "outputs": [],
   "source": [
    "# Investigate whether all veg_cover in veg_ds for those sites are NaNs - Yes\n",
    "\n",
    "from pyproj import Transformer\n",
    "\n",
    "X = df[df['SiteID'] == 156]['X'].unique()[0]\n",
    "Y = df[df['SiteID'] == 156]['Y'].unique()[0]\n",
    "\n",
    "transformer = Transformer.from_crs(\"EPSG:4326\", \"EPSG:32754\", always_xy=True)\n",
    "dea_x, dea_y = transformer.transform(X, Y)\n",
    "df.head()\n",
    "\n",
    "tmp = veg_ds.sel(x=dea_x, y=dea_y, method='nearest')\n",
    "tmp['veg_cover'].values"
   ]
  },
  {
   "cell_type": "code",
   "execution_count": null,
   "metadata": {
    "colab": {
     "base_uri": "https://localhost:8080/",
     "height": 614
    },
    "executionInfo": {
     "elapsed": 935,
     "status": "ok",
     "timestamp": 1747787642801,
     "user": {
      "displayName": "Porntipa Poonpolsub",
      "userId": "14089782475563213772"
     },
     "user_tz": -600
    },
    "id": "lCH2Ywxoj5b1",
    "outputId": "e60270c7-f4be-46cd-b4bd-8ce61ae9a45a"
   },
   "outputs": [],
   "source": [
    "# Investigate the number of non-NaN values for each site\n",
    "\n",
    "# Load site df\n",
    "site_file_name = \"site_data_summary_phd.csv\"\n",
    "site_df = pd.read_csv(os.path.join(working_dir, \"output\", \"csv\", site_file_name))\n",
    "\n",
    "# Make dea_x, dea_y columns\n",
    "transformer = Transformer.from_crs(\"EPSG:4326\", \"EPSG:32754\", always_xy=True)\n",
    "site_df['dea_x'], site_df['dea_y'] = transformer.transform(site_df['X'].values, site_df['Y'].values)\n",
    "\n",
    "# Use dea_x, dea_y columns to get veg_cover list and count non-NaNs\n",
    "\n",
    "\n",
    "def count(row):\n",
    "    x = row['dea_x']\n",
    "    y = row['dea_y']\n",
    "    point_series = veg_ds.sel(x=x, y=y, method='nearest')['veg_cover']\n",
    "    import numpy as np\n",
    "\n",
    "    return np.count_nonzero(~np.isnan(point_series))\n",
    "\n",
    "\n",
    "site_df['non-NaN veg_cover count'] = site_df.apply(count, axis=1)\n",
    "site_df"
   ]
  },
  {
   "cell_type": "code",
   "execution_count": null,
   "metadata": {
    "colab": {
     "base_uri": "https://localhost:8080/",
     "height": 762
    },
    "executionInfo": {
     "elapsed": 60,
     "status": "ok",
     "timestamp": 1747787684233,
     "user": {
      "displayName": "Porntipa Poonpolsub",
      "userId": "14089782475563213772"
     },
     "user_tz": -600
    },
    "id": "vnOh0lPeP9zD",
    "outputId": "c2ed3be7-4c93-4678-c646-424013bbec7a"
   },
   "outputs": [],
   "source": [
    "site_df[site_df['non-NaN veg_cover count'] < 100]"
   ]
  },
  {
   "cell_type": "code",
   "execution_count": null,
   "metadata": {
    "colab": {
     "base_uri": "https://localhost:8080/"
    },
    "executionInfo": {
     "elapsed": 46,
     "status": "ok",
     "timestamp": 1747790481837,
     "user": {
      "displayName": "Porntipa Poonpolsub",
      "userId": "14089782475563213772"
     },
     "user_tz": -600
    },
    "id": "24TCWFJ7Qb3F",
    "outputId": "71648f1d-a13e-4819-ab48-f235fa18b008"
   },
   "outputs": [],
   "source": [
    "# Investigate site 251 - only 5 pv+npv left after cloud filtering\n",
    "\n",
    "x, y = site_df.loc[site_df['SiteID'] == 251, ['dea_x', 'dea_y']].values[0]\n",
    "point_series = veg_ds.sel(x=x, y=y, method='nearest')['veg_cover']\n",
    "point_series.values"
   ]
  },
  {
   "cell_type": "code",
   "execution_count": null,
   "metadata": {
    "colab": {
     "base_uri": "https://localhost:8080/"
    },
    "executionInfo": {
     "elapsed": 5279,
     "status": "ok",
     "timestamp": 1747793442852,
     "user": {
      "displayName": "Porntipa Poonpolsub",
      "userId": "14089782475563213772"
     },
     "user_tz": -600
    },
    "id": "VsEdLatCbLf2",
    "outputId": "35a10d9c-11c0-4d5f-bd02-71c652099764"
   },
   "outputs": [],
   "source": [
    "# Investigate pv of site 74 before cloud filtering\n",
    "# 92, 149, 74, 284, 167, 176, 249, 271, 155, 156, 195, 170, 184, 274\n",
    "\n",
    "import xarray as xr\n",
    "\n",
    "veg_cover_with_cloud_data_path = os.path.join(\n",
    "    working_dir, \"Data\", \"Vegetation_cover\", \"DEA_Fractional_cover_PV_phd_tight_time_coverage.nc\"\n",
    ")\n",
    "veg_cloud_ds = xr.open_dataset(veg_cover_with_cloud_data_path)\n",
    "\n",
    "x, y = site_df.loc[site_df['SiteID'] == 249, ['dea_x', 'dea_y']].values[0]\n",
    "point_series = veg_cloud_ds.sel(x=x, y=y, method='nearest')['pv']\n",
    "point_series.values"
   ]
  },
  {
   "cell_type": "code",
   "execution_count": null,
   "metadata": {
    "id": "gCm86O0kmNeY"
   },
   "outputs": [],
   "source": []
  }
 ],
 "metadata": {
  "colab": {
   "authorship_tag": "ABX9TyMIZh/I/xYECvYSrjFNUFm5",
   "provenance": [],
   "toc_visible": true
  },
  "kernelspec": {
   "display_name": "Python 3",
   "name": "python3"
  },
  "language_info": {
   "name": "python"
  }
 },
 "nbformat": 4,
 "nbformat_minor": 0
}
