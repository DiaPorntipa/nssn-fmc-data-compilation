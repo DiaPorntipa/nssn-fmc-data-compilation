{
 "cells": [
  {
   "cell_type": "code",
   "execution_count": null,
   "id": "0",
   "metadata": {},
   "outputs": [],
   "source": [
    "import matplotlib.colormaps as colormaps\n",
    "import matplotlib.pyplot as plt\n",
    "import pandas as pd"
   ]
  },
  {
   "cell_type": "code",
   "execution_count": null,
   "id": "1",
   "metadata": {},
   "outputs": [],
   "source": [
    "df = pd.read_csv('../../Data/pcs/pcs.csv')\n",
    "df['Datetime'] = pd.to_datetime(df['Datetime'])\n",
    "df.head()"
   ]
  },
  {
   "cell_type": "code",
   "execution_count": null,
   "id": "2",
   "metadata": {},
   "outputs": [],
   "source": [
    "site_df = pd.read_csv('../../Data/all_sites_latlon_dates.csv')\n",
    "site_df.head()"
   ]
  },
  {
   "cell_type": "code",
   "execution_count": null,
   "id": "3",
   "metadata": {},
   "outputs": [],
   "source": [
    "plt.figure(figsize=(40, 5))\n",
    "colors = plt.get_cmap('tab20', 15)\n",
    "for i in range(1, 15):\n",
    "    site_id = f'pcs_{i}'\n",
    "    station_name = site_df[site_df['SiteID'] == site_id]['Station_name'].values[0]\n",
    "\n",
    "    sub_df = df[df['SiteID'] == site_id]\n",
    "    plt.plot(sub_df['Datetime'], sub_df['Soil_mois'], label=station_name, color=colors(i - 1))\n",
    "\n",
    "# Add labels and legend\n",
    "plt.xlabel('Datetime')\n",
    "plt.ylabel('Soil Moisture')\n",
    "plt.title('Soil Moisture Over Time')\n",
    "plt.legend()\n",
    "\n",
    "# plt.show()"
   ]
  },
  {
   "cell_type": "code",
   "execution_count": null,
   "id": "4",
   "metadata": {},
   "outputs": [],
   "source": []
  }
 ],
 "metadata": {
  "kernelspec": {
   "display_name": "base",
   "language": "python",
   "name": "python3"
  },
  "language_info": {
   "codemirror_mode": {
    "name": "ipython",
    "version": 3
   },
   "file_extension": ".py",
   "mimetype": "text/x-python",
   "name": "python",
   "nbconvert_exporter": "python",
   "pygments_lexer": "ipython3",
   "version": "3.12.3"
  }
 },
 "nbformat": 4,
 "nbformat_minor": 5
}
