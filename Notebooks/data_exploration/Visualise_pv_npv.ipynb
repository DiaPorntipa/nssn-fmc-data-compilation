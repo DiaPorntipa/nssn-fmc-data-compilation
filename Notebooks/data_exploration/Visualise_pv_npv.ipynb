{
 "cells": [
  {
   "cell_type": "code",
   "execution_count": null,
   "metadata": {
    "colab": {
     "base_uri": "https://localhost:8080/"
    },
    "executionInfo": {
     "elapsed": 92027,
     "status": "ok",
     "timestamp": 1748221029779,
     "user": {
      "displayName": "Porntipa Poonpolsub",
      "userId": "14089782475563213772"
     },
     "user_tz": -600
    },
    "id": "oj-zFRz2Wwsx",
    "outputId": "bdfbf4c7-da6e-4ebd-8559-78265950f54c"
   },
   "outputs": [],
   "source": [
    "# Connect to Google Drive\n",
    "from google.colab import drive\n",
    "\n",
    "drive.mount('/content/drive')"
   ]
  },
  {
   "cell_type": "markdown",
   "metadata": {
    "id": "ddByCFlKjg1a"
   },
   "source": [
    "# Forest Corp Site Data"
   ]
  },
  {
   "cell_type": "markdown",
   "metadata": {
    "id": "chxcEOQcxFMO"
   },
   "source": [
    "## Investigations of site which cloud filtering removes all data"
   ]
  },
  {
   "cell_type": "code",
   "execution_count": null,
   "metadata": {
    "id": "_AapxDZqjzPq"
   },
   "outputs": [],
   "source": [
    "file_name = \"veg_cover_fc_7_no_filter.nc\"\n",
    "data_dir = \"/content/drive/My Drive/Work/2025.04 ANU Bushfire/Data/Vegetation_cover\""
   ]
  },
  {
   "cell_type": "code",
   "execution_count": null,
   "metadata": {
    "colab": {
     "base_uri": "https://localhost:8080/",
     "height": 564
    },
    "executionInfo": {
     "elapsed": 660,
     "status": "ok",
     "timestamp": 1747960455989,
     "user": {
      "displayName": "Porntipa Poonpolsub",
      "userId": "14089782475563213772"
     },
     "user_tz": -600
    },
    "id": "fTAdOom_jzPr",
    "outputId": "291cc3b0-95b2-46a5-970e-b677252056f8"
   },
   "outputs": [],
   "source": [
    "# Get pv and npv\n",
    "\n",
    "import os\n",
    "\n",
    "import xarray as xr\n",
    "\n",
    "data_path = os.path.join(data_dir, file_name)\n",
    "ds = xr.open_dataset(data_path)\n",
    "ds"
   ]
  },
  {
   "cell_type": "code",
   "execution_count": null,
   "metadata": {
    "colab": {
     "base_uri": "https://localhost:8080/"
    },
    "executionInfo": {
     "elapsed": 6,
     "status": "ok",
     "timestamp": 1747962148274,
     "user": {
      "displayName": "Porntipa Poonpolsub",
      "userId": "14089782475563213772"
     },
     "user_tz": -600
    },
    "id": "q1ewf2GAjzPs",
    "outputId": "736007ce-d15c-4406-853d-f5d148c87a8a"
   },
   "outputs": [],
   "source": [
    "# Get dea_x and dea_y of those sites\n",
    "\n",
    "from pyproj import Transformer\n",
    "\n",
    "# fc_7: Site with all-NaN clound filtered veg_cover\n",
    "x = 150.089\n",
    "y = -35.557\n",
    "transformer = Transformer.from_crs(\"EPSG:4326\", \"EPSG:32754\", always_xy=True)\n",
    "dea_x, dea_y = transformer.transform(x, y)\n",
    "dea_x, dea_y"
   ]
  },
  {
   "cell_type": "code",
   "execution_count": null,
   "metadata": {
    "colab": {
     "base_uri": "https://localhost:8080/",
     "height": 487
    },
    "executionInfo": {
     "elapsed": 1073,
     "status": "ok",
     "timestamp": 1747962151192,
     "user": {
      "displayName": "Porntipa Poonpolsub",
      "userId": "14089782475563213772"
     },
     "user_tz": -600
    },
    "id": "f0VyQUBWjzPs",
    "outputId": "3e171616-85b0-42d9-fd24-a92310a5f156"
   },
   "outputs": [],
   "source": [
    "# Plot pv+npv of fc_7\n",
    "\n",
    "import math\n",
    "\n",
    "import matplotlib.pyplot as plt\n",
    "\n",
    "# Create a single subplot\n",
    "fig, ax = plt.subplots()\n",
    "\n",
    "# Extract time series at nearest point\n",
    "pv_point_series = ds.sel(x=dea_x, y=dea_y, method='nearest')['pv']\n",
    "npv_point_series = ds.sel(x=dea_x, y=dea_y, method='nearest')['npv']\n",
    "ue_point_series = ds.sel(x=dea_x, y=dea_y, method='nearest')['ue']\n",
    "\n",
    "# Combine PV and NPV\n",
    "point_series = pv_point_series + npv_point_series\n",
    "\n",
    "# Plot both series with labels\n",
    "point_series.plot(ax=ax, label='PV + NPV')\n",
    "ue_point_series.plot(ax=ax, label='UE')\n",
    "\n",
    "# Customize plot\n",
    "ax.set_title(\"PV + NPV vs UE - Forest Corp’s Lyons Rd station\")\n",
    "ax.set_xlabel(\"Time\")\n",
    "ax.set_ylabel(\"Value\")\n",
    "ax.legend()\n",
    "\n",
    "plt.tight_layout()\n",
    "plt.savefig(\"Forest Corp - pv+npv.png\", dpi=300)"
   ]
  },
  {
   "cell_type": "code",
   "execution_count": null,
   "metadata": {
    "id": "NO4-_5Rcv3VQ"
   },
   "outputs": [],
   "source": [
    "# Investigate other DEA cells around fc_7\n",
    "\n",
    "file_name = \"veg_cover_fc_7_cloud_filtered.nc\"\n",
    "data_dir = \"/content/drive/My Drive/Work/2025.04 ANU Bushfire/Data/Vegetation_cover\""
   ]
  },
  {
   "cell_type": "code",
   "execution_count": null,
   "metadata": {
    "colab": {
     "base_uri": "https://localhost:8080/",
     "height": 363
    },
    "executionInfo": {
     "elapsed": 517,
     "status": "ok",
     "timestamp": 1747964849114,
     "user": {
      "displayName": "Porntipa Poonpolsub",
      "userId": "14089782475563213772"
     },
     "user_tz": -600
    },
    "id": "Flt_S_gUv3VQ",
    "outputId": "218b78d1-798b-46a2-cca3-db3bd4a1b9da"
   },
   "outputs": [],
   "source": [
    "# Get pv and npv\n",
    "\n",
    "import os\n",
    "\n",
    "import xarray as xr\n",
    "\n",
    "data_path = os.path.join(data_dir, file_name)\n",
    "ds = xr.open_dataset(data_path)\n",
    "ds"
   ]
  },
  {
   "cell_type": "code",
   "execution_count": null,
   "metadata": {
    "colab": {
     "base_uri": "https://localhost:8080/",
     "height": 793
    },
    "executionInfo": {
     "elapsed": 3074,
     "status": "ok",
     "timestamp": 1747964853051,
     "user": {
      "displayName": "Porntipa Poonpolsub",
      "userId": "14089782475563213772"
     },
     "user_tz": -600
    },
    "id": "FPLZ28Ujp1pu",
    "outputId": "e2926a73-d5fe-4508-c00c-a844a89fe57d"
   },
   "outputs": [],
   "source": [
    "plot_title = [\n",
    "    'Upper-left cell (Nearest cell)',\n",
    "    'Upper-right cell',\n",
    "    'Lower-left cell',\n",
    "    'Lower-right cell',\n",
    "]\n",
    "# Surrounding cells\n",
    "dea_x = [1324845, 1324875, 1324845, 1324875]\n",
    "dea_y = [6026955, 6026955, 6026925, 6026925]\n",
    "\n",
    "n = len(dea_x)\n",
    "cols = 2  # number of columns in the subplot grid\n",
    "rows = math.ceil(n / cols)\n",
    "\n",
    "fig, axes = plt.subplots(rows, cols, figsize=(10, 4 * rows), sharex=True)\n",
    "fig.suptitle('Filtered veg_cover - DEA Cells around Forest Corp’s Lyons Rd station', fontsize=16)\n",
    "axes = axes.flatten()  # flatten in case it's a 2D array\n",
    "\n",
    "for i in range(n):\n",
    "    # Extract time series at nearest point\n",
    "    pv_point_series = ds.sel(x=dea_x[i], y=dea_y[i], method='nearest')['pv']\n",
    "    npv_point_series = ds.sel(x=dea_x[i], y=dea_y[i], method='nearest')['npv']\n",
    "    ue_point_series = ds.sel(x=dea_x[i], y=dea_y[i], method='nearest')['ue']\n",
    "\n",
    "    # Combine PV and NPV\n",
    "    point_series = pv_point_series + npv_point_series\n",
    "\n",
    "    # Plot both series with labels\n",
    "    point_series.plot(ax=axes[i], label='PV + NPV')\n",
    "    ue_point_series.plot(ax=axes[i], label='UE')\n",
    "\n",
    "    # Customize plot\n",
    "    axes[i].set_title(f\"{plot_title[i]}\")\n",
    "    axes[i].set_xlabel(\"Time\")\n",
    "    axes[i].set_ylabel(\"Value\")\n",
    "    axes[i].legend()\n",
    "\n",
    "# Remove unused subplots (if any)\n",
    "for j in range(n, len(axes)):\n",
    "    fig.delaxes(axes[j])\n",
    "\n",
    "plt.tight_layout()\n",
    "plt.savefig(\"pv+npv.png\", dpi=300)"
   ]
  },
  {
   "cell_type": "markdown",
   "metadata": {
    "id": "szrsUO78jdHa"
   },
   "source": [
    "# PhD Site Data"
   ]
  },
  {
   "cell_type": "markdown",
   "metadata": {
    "id": "TJ9rZgHj4prg"
   },
   "source": [
    "## Line plots of veg_cover (cloud filtering and rolling weighted average applied)"
   ]
  },
  {
   "cell_type": "code",
   "execution_count": null,
   "metadata": {
    "id": "n45810T242tv"
   },
   "outputs": [],
   "source": [
    "file_name = \"veg_cover_phd_67-70.nc\"\n",
    "data_dir = \"/content/drive/My Drive/Work/2025.04 ANU Bushfire/Data/Vegetation_cover\""
   ]
  },
  {
   "cell_type": "code",
   "execution_count": null,
   "metadata": {
    "colab": {
     "base_uri": "https://localhost:8080/",
     "height": 321
    },
    "executionInfo": {
     "elapsed": 6536,
     "status": "ok",
     "timestamp": 1747714515066,
     "user": {
      "displayName": "Porntipa Poonpolsub",
      "userId": "14089782475563213772"
     },
     "user_tz": -600
    },
    "id": "hbL6f21F5BGv",
    "outputId": "9149ea3a-5be6-4c62-bc9f-d5f703a3d6d9"
   },
   "outputs": [],
   "source": [
    "import os\n",
    "\n",
    "import xarray as xr\n",
    "\n",
    "data_path = os.path.join(data_dir, file_name)\n",
    "ds = xr.open_dataset(data_path)\n",
    "ds"
   ]
  },
  {
   "cell_type": "code",
   "execution_count": null,
   "metadata": {
    "id": "IQUOtf165DE3"
   },
   "outputs": [],
   "source": [
    "# Select 4 sites\n",
    "site_ids = [67, 68, 69, 70]\n",
    "x = [150.2697, 150.2689, 150.2683, 150.2675]\n",
    "y = [-35.5448, -35.5439, -35.5452, -35.5448]"
   ]
  },
  {
   "cell_type": "code",
   "execution_count": null,
   "metadata": {
    "id": "db96HIEM53VK"
   },
   "outputs": [],
   "source": [
    "# Get dea_x and dea_y of those sites\n",
    "\n",
    "from pyproj import Transformer\n",
    "\n",
    "transformer = Transformer.from_crs(\"EPSG:4326\", \"EPSG:32754\", always_xy=True)\n",
    "dea_x, dea_y = transformer.transform(x, y)"
   ]
  },
  {
   "cell_type": "code",
   "execution_count": null,
   "metadata": {
    "colab": {
     "base_uri": "https://localhost:8080/",
     "height": 806
    },
    "executionInfo": {
     "elapsed": 1685,
     "status": "ok",
     "timestamp": 1747714748373,
     "user": {
      "displayName": "Porntipa Poonpolsub",
      "userId": "14089782475563213772"
     },
     "user_tz": -600
    },
    "id": "pNlEps_j5Lao",
    "outputId": "ac93e932-f666-43e1-d94d-f9bdbda6d6ac"
   },
   "outputs": [],
   "source": [
    "# Plot veg_cover of those site in one fig\n",
    "\n",
    "import math\n",
    "\n",
    "import matplotlib.pyplot as plt\n",
    "\n",
    "n = len(dea_x)\n",
    "cols = 2  # number of columns in the subplot grid\n",
    "rows = math.ceil(n / cols)\n",
    "\n",
    "fig, axes = plt.subplots(rows, cols, figsize=(10, 4 * rows), sharex=True)\n",
    "fig.suptitle('PV + NPV after cloud filtering and rolling weighted average applied', fontsize=16)\n",
    "axes = axes.flatten()  # flatten in case it's a 2D array\n",
    "\n",
    "for i in range(n):\n",
    "    point_series = ds.sel(x=dea_x[i], y=dea_y[i], method='nearest')['veg_cover']\n",
    "    point_series.plot(ax=axes[i])\n",
    "    axes[i].set_title(f\"SiteID {site_ids[i]}\")\n",
    "    axes[i].set_xlabel(\"Time\")\n",
    "    axes[i].set_ylabel(\"Vegetation Cover\")\n",
    "    axes[i].set_ylim(0, 100)\n",
    "\n",
    "# Remove unused subplots (if any)\n",
    "for j in range(n, len(axes)):\n",
    "    fig.delaxes(axes[j])\n",
    "\n",
    "plt.tight_layout()\n",
    "plt.savefig(\"veg_cover.png\", dpi=300)"
   ]
  },
  {
   "cell_type": "markdown",
   "metadata": {
    "id": "s7xopl8Hz6LU"
   },
   "source": [
    "## Scatter plots of data after cloud filtering"
   ]
  },
  {
   "cell_type": "code",
   "execution_count": null,
   "metadata": {
    "id": "KmeSLwBi0C_M"
   },
   "outputs": [],
   "source": [
    "file_name = \"DEA_Fractional_cover_phd_67-70_cloud_filtered.nc\"\n",
    "file_name_before_cloud_filtering = \"DEA_Fractional_cover_phd_67-70.nc\"\n",
    "data_dir = \"/content/drive/My Drive/Work/2025.04 ANU Bushfire/Data/Vegetation_cover\""
   ]
  },
  {
   "cell_type": "code",
   "execution_count": null,
   "metadata": {
    "id": "A6fXsXGj0LlM"
   },
   "outputs": [],
   "source": [
    "import os\n",
    "\n",
    "import xarray as xr\n",
    "\n",
    "data_path = os.path.join(data_dir, file_name)\n",
    "ds = xr.open_dataset(data_path)\n",
    "ds\n",
    "\n",
    "data_path_with_cloud = os.path.join(data_dir, file_name_before_cloud_filtering)\n",
    "ds_with_cloud = xr.open_dataset(data_path_with_cloud)"
   ]
  },
  {
   "cell_type": "code",
   "execution_count": null,
   "metadata": {
    "id": "j5DsxBTg0gmN"
   },
   "outputs": [],
   "source": [
    "# Select 4 sites\n",
    "site_ids = [67, 68, 69, 70]\n",
    "x = [150.2697, 150.2689, 150.2683, 150.2675]\n",
    "y = [-35.5448, -35.5439, -35.5452, -35.5448]"
   ]
  },
  {
   "cell_type": "code",
   "execution_count": null,
   "metadata": {
    "id": "FygSqhZ-0poe"
   },
   "outputs": [],
   "source": [
    "# Get dea_x and dea_y of those sites\n",
    "\n",
    "from pyproj import Transformer\n",
    "\n",
    "transformer = Transformer.from_crs(\"EPSG:4326\", \"EPSG:32754\", always_xy=True)\n",
    "dea_x, dea_y = transformer.transform(x, y)"
   ]
  },
  {
   "cell_type": "code",
   "execution_count": null,
   "metadata": {
    "colab": {
     "base_uri": "https://localhost:8080/",
     "height": 807
    },
    "executionInfo": {
     "elapsed": 2344,
     "status": "ok",
     "timestamp": 1747631310251,
     "user": {
      "displayName": "Porntipa Poonpolsub",
      "userId": "14089782475563213772"
     },
     "user_tz": -600
    },
    "id": "aKvBvSzT1HLF",
    "outputId": "6328740d-d946-4cdc-c2e7-e0a814a36e07"
   },
   "outputs": [],
   "source": [
    "import math\n",
    "from time import thread_time_ns\n",
    "\n",
    "import matplotlib.pyplot as plt\n",
    "\n",
    "# Plot pv+npv of those site in one fig\n",
    "n = len(dea_x)\n",
    "cols = 2  # number of columns in the subplot grid\n",
    "rows = math.ceil(n / cols)\n",
    "\n",
    "fig, axes = plt.subplots(rows, cols, figsize=(10, 4 * rows), sharex=True)\n",
    "axes = axes.flatten()  # flatten in case it's a 2D array\n",
    "\n",
    "for i in range(n):\n",
    "    # Extract time series at nearest point\n",
    "    pv_point_series = ds.sel(x=dea_x[i], y=dea_y[i], method='nearest')['pv']\n",
    "    npv_point_series = ds.sel(x=dea_x[i], y=dea_y[i], method='nearest')['npv']\n",
    "    pv_point_series_with_cloud = ds_with_cloud.sel(x=dea_x[i], y=dea_y[i], method='nearest')['pv']\n",
    "    npv_point_series_with_cloud = ds_with_cloud.sel(x=dea_x[i], y=dea_y[i], method='nearest')['npv']\n",
    "\n",
    "    # Combine PV and NPV\n",
    "    point_series_with_cloud = pv_point_series_with_cloud + npv_point_series_with_cloud\n",
    "    point_series = pv_point_series + npv_point_series\n",
    "\n",
    "    # Plot both series with labels\n",
    "    point_series.plot(ax=axes[i], label='PV + NPV with cloud filtering')\n",
    "    point_series_with_cloud.plot(ax=axes[i], label='PV + NPV before cloud filtering', linewidth=0.5)\n",
    "\n",
    "    # Customize plot\n",
    "    axes[i].set_title(f\"PV + NPV before and after cloud filtering - SiteID {site_ids[i]}\")\n",
    "    axes[i].set_xlabel(\"Time\")\n",
    "    axes[i].set_ylabel(\"Value\")\n",
    "    axes[i].legend()\n",
    "\n",
    "\n",
    "# Remove unused subplots (if any)\n",
    "for j in range(n, len(axes)):\n",
    "    fig.delaxes(axes[j])\n",
    "\n",
    "plt.tight_layout()\n",
    "plt.savefig(\"pv+npv_cloud_filtering_comparison.png\", dpi=300)"
   ]
  },
  {
   "cell_type": "code",
   "execution_count": null,
   "metadata": {
    "colab": {
     "base_uri": "https://localhost:8080/",
     "height": 807
    },
    "executionInfo": {
     "elapsed": 2722,
     "status": "ok",
     "timestamp": 1747631910932,
     "user": {
      "displayName": "Porntipa Poonpolsub",
      "userId": "14089782475563213772"
     },
     "user_tz": -600
    },
    "id": "tT_OSxgG8N-e",
    "outputId": "c4482ab8-19be-4e87-efcf-67aabe9a0e92"
   },
   "outputs": [],
   "source": [
    "# Plot pv+npv of those site in one fig\n",
    "n = len(dea_x)\n",
    "cols = 2  # number of columns in the subplot grid\n",
    "rows = math.ceil(n / cols)\n",
    "\n",
    "fig, axes = plt.subplots(rows, cols, figsize=(10, 4 * rows), sharex=True)\n",
    "axes = axes.flatten()  # flatten in case it's a 2D array\n",
    "\n",
    "for i in range(n):\n",
    "    # Extract time series at nearest point\n",
    "    pv_point_series = ds.sel(x=dea_x[i], y=dea_y[i], method='nearest')['pv']\n",
    "    npv_point_series = ds.sel(x=dea_x[i], y=dea_y[i], method='nearest')['npv']\n",
    "    ue_point_series = ds.sel(x=dea_x[i], y=dea_y[i], method='nearest')['ue']\n",
    "\n",
    "    # Combine PV and NPV\n",
    "    point_series = pv_point_series + npv_point_series\n",
    "\n",
    "    # Plot both series with labels\n",
    "    point_series.plot(ax=axes[i], label='PV + NPV')\n",
    "    ue_point_series.plot(ax=axes[i], label='UE')\n",
    "\n",
    "    # Customize plot\n",
    "    axes[i].set_title(f\"PV + NPV vs UE - SiteID {site_ids[i]}\")\n",
    "    axes[i].set_xlabel(\"Time\")\n",
    "    axes[i].set_ylabel(\"Value\")\n",
    "    axes[i].legend()\n",
    "\n",
    "\n",
    "# Remove unused subplots (if any)\n",
    "for j in range(n, len(axes)):\n",
    "    fig.delaxes(axes[j])\n",
    "\n",
    "plt.tight_layout()\n",
    "plt.savefig(\"pv_npv_vs_ue_line.png\", dpi=300)"
   ]
  },
  {
   "cell_type": "code",
   "execution_count": null,
   "metadata": {
    "colab": {
     "base_uri": "https://localhost:8080/",
     "height": 807
    },
    "executionInfo": {
     "elapsed": 1814,
     "status": "ok",
     "timestamp": 1747630171652,
     "user": {
      "displayName": "Porntipa Poonpolsub",
      "userId": "14089782475563213772"
     },
     "user_tz": -600
    },
    "id": "SF6Gv4OU4BX6",
    "outputId": "8ab20513-adcb-4a6b-cabd-21921711169d"
   },
   "outputs": [],
   "source": [
    "import math\n",
    "\n",
    "import matplotlib.pyplot as plt\n",
    "\n",
    "# Number of sites\n",
    "n = len(dea_x)\n",
    "cols = 2  # Number of columns in subplot grid\n",
    "rows = math.ceil(n / cols)\n",
    "\n",
    "# Create figure\n",
    "fig, axes = plt.subplots(rows, cols, figsize=(10, 4 * rows))\n",
    "axes = axes.flatten()  # Flatten in case of 2D array\n",
    "\n",
    "for i in range(n):\n",
    "    # Extract time series at nearest point\n",
    "    pv_point_series = ds.sel(x=dea_x[i], y=dea_y[i], method='nearest')['pv']\n",
    "    npv_point_series = ds.sel(x=dea_x[i], y=dea_y[i], method='nearest')['npv']\n",
    "    ue_point_series = ds.sel(x=dea_x[i], y=dea_y[i], method='nearest')['ue']\n",
    "\n",
    "    # Combine PV and NPV\n",
    "    pv_npv = pv_point_series + npv_point_series\n",
    "\n",
    "    # Scatter plot: x=PV+NPV, y=UE\n",
    "    axes[i].scatter(\n",
    "        pv_npv,\n",
    "        ue_point_series,\n",
    "        alpha=0.6,  # Transparency\n",
    "        edgecolor='k',  # Black edges for points\n",
    "        s=30,  # Marker size\n",
    "    )\n",
    "\n",
    "    # Customize plot\n",
    "    axes[i].set_title(f\"PV+NPV vs UE - SiteID {site_ids[i]}\")\n",
    "    axes[i].set_xlabel(\"PV + NPV\")\n",
    "    axes[i].set_ylabel(\"Unmixing Error (UE)\")\n",
    "    axes[i].grid(True, linestyle='--', alpha=0.5)\n",
    "\n",
    "# Remove unused subplots (if any)\n",
    "for j in range(n, len(axes)):\n",
    "    fig.delaxes(axes[j])\n",
    "\n",
    "plt.tight_layout()\n",
    "plt.savefig(\"pv_npv_vs_ue_scatter.png\", dpi=300, bbox_inches='tight')\n",
    "plt.show()"
   ]
  },
  {
   "cell_type": "code",
   "execution_count": null,
   "metadata": {
    "colab": {
     "base_uri": "https://localhost:8080/",
     "height": 807
    },
    "executionInfo": {
     "elapsed": 1749,
     "status": "ok",
     "timestamp": 1747630403713,
     "user": {
      "displayName": "Porntipa Poonpolsub",
      "userId": "14089782475563213772"
     },
     "user_tz": -600
    },
    "id": "-YbFTGFR4pfd",
    "outputId": "73b6d3f2-632a-4d18-85e2-aaf0b37fcf4f"
   },
   "outputs": [],
   "source": [
    "import math\n",
    "\n",
    "import matplotlib.pyplot as plt\n",
    "\n",
    "# Number of sites\n",
    "n = len(dea_x)\n",
    "cols = 2  # Number of columns in subplot grid\n",
    "rows = math.ceil(n / cols)\n",
    "\n",
    "# Create figure\n",
    "fig, axes = plt.subplots(rows, cols, figsize=(10, 4 * rows))\n",
    "axes = axes.flatten()  # Flatten in case of 2D array\n",
    "\n",
    "for i in range(n):\n",
    "    # Extract time series at nearest point\n",
    "    pv_point_series = ds.sel(x=dea_x[i], y=dea_y[i], method='nearest')['pv']\n",
    "    ue_point_series = ds.sel(x=dea_x[i], y=dea_y[i], method='nearest')['ue']\n",
    "\n",
    "    # Scatter plot: x=PV, y=UE\n",
    "    axes[i].scatter(\n",
    "        pv_point_series,\n",
    "        ue_point_series,\n",
    "        alpha=0.6,  # Transparency\n",
    "        edgecolor='k',  # Black edges for points\n",
    "        s=30,  # Marker size\n",
    "    )\n",
    "\n",
    "    # Customize plot\n",
    "    axes[i].set_title(f\"PV vs UE - SiteID {site_ids[i]}\")\n",
    "    axes[i].set_xlabel(\"PV\")\n",
    "    axes[i].set_ylabel(\"Unmixing Error (UE)\")\n",
    "    axes[i].grid(True, linestyle='--', alpha=0.5)\n",
    "\n",
    "# Remove unused subplots (if any)\n",
    "for j in range(n, len(axes)):\n",
    "    fig.delaxes(axes[j])\n",
    "\n",
    "plt.tight_layout()\n",
    "plt.savefig(\"pv_vs_ue_scatter.png\", dpi=300, bbox_inches='tight')\n",
    "plt.show()"
   ]
  },
  {
   "cell_type": "code",
   "execution_count": null,
   "metadata": {
    "colab": {
     "base_uri": "https://localhost:8080/",
     "height": 807
    },
    "executionInfo": {
     "elapsed": 1714,
     "status": "ok",
     "timestamp": 1747630478192,
     "user": {
      "displayName": "Porntipa Poonpolsub",
      "userId": "14089782475563213772"
     },
     "user_tz": -600
    },
    "id": "5qiV7hg_4pYN",
    "outputId": "b8a241a5-edf8-425c-f32b-5c72d4d794b9"
   },
   "outputs": [],
   "source": [
    "import math\n",
    "\n",
    "import matplotlib.pyplot as plt\n",
    "\n",
    "# Number of sites\n",
    "n = len(dea_x)\n",
    "cols = 2  # Number of columns in subplot grid\n",
    "rows = math.ceil(n / cols)\n",
    "\n",
    "# Create figure\n",
    "fig, axes = plt.subplots(rows, cols, figsize=(10, 4 * rows))\n",
    "axes = axes.flatten()  # Flatten in case of 2D array\n",
    "\n",
    "for i in range(n):\n",
    "    # Extract time series at nearest point\n",
    "    npv_point_series = ds.sel(x=dea_x[i], y=dea_y[i], method='nearest')['npv']\n",
    "    ue_point_series = ds.sel(x=dea_x[i], y=dea_y[i], method='nearest')['ue']\n",
    "\n",
    "    # Scatter plot: x=NPV, y=UE\n",
    "    axes[i].scatter(\n",
    "        npv_point_series,\n",
    "        ue_point_series,\n",
    "        alpha=0.6,  # Transparency\n",
    "        edgecolor='k',  # Black edges for points\n",
    "        s=30,  # Marker size\n",
    "    )\n",
    "\n",
    "    # Customize plot\n",
    "    axes[i].set_title(f\"NPV vs UE - SiteID {site_ids[i]}\")\n",
    "    axes[i].set_xlabel(\"NPV\")\n",
    "    axes[i].set_ylabel(\"Unmixing Error (UE)\")\n",
    "    axes[i].grid(True, linestyle='--', alpha=0.5)\n",
    "\n",
    "# Remove unused subplots (if any)\n",
    "for j in range(n, len(axes)):\n",
    "    fig.delaxes(axes[j])\n",
    "\n",
    "plt.tight_layout()\n",
    "plt.savefig(\"npv_vs_ue_scatter.png\", dpi=300, bbox_inches='tight')\n",
    "plt.show()"
   ]
  },
  {
   "cell_type": "code",
   "execution_count": null,
   "metadata": {
    "colab": {
     "base_uri": "https://localhost:8080/",
     "height": 141
    },
    "executionInfo": {
     "elapsed": 8,
     "status": "error",
     "timestamp": 1747629812344,
     "user": {
      "displayName": "Porntipa Poonpolsub",
      "userId": "14089782475563213772"
     },
     "user_tz": -600
    },
    "id": "N4Bt2F_g2mmn",
    "outputId": "1d4b344e-c7a8-42e0-cb0d-61e8092adcdc"
   },
   "outputs": [],
   "source": [
    "stop"
   ]
  },
  {
   "cell_type": "markdown",
   "metadata": {
    "id": "1HIrTS0Dzy80"
   },
   "source": [
    "## Graphs"
   ]
  },
  {
   "cell_type": "code",
   "execution_count": null,
   "metadata": {
    "id": "LRYXC8hNW78Q"
   },
   "outputs": [],
   "source": [
    "pv_file_name = \"DEA_Fractional_cover_PV_phd_tight_time_coverage.nc\"\n",
    "npv_file_name = \"DEA_Fractional_cover_NPV_phd.nc\"\n",
    "ue_file_name = \"DEA_Fractional_cover_UE_phd.nc\"\n",
    "data_dir = \"/content/drive/My Drive/Work/2025.04 ANU Bushfire/Data/Vegetation_cover\""
   ]
  },
  {
   "cell_type": "code",
   "execution_count": null,
   "metadata": {
    "colab": {
     "base_uri": "https://localhost:8080/",
     "height": 321
    },
    "executionInfo": {
     "elapsed": 6700,
     "status": "ok",
     "timestamp": 1747959423015,
     "user": {
      "displayName": "Porntipa Poonpolsub",
      "userId": "14089782475563213772"
     },
     "user_tz": -600
    },
    "id": "6_YkZGqHW2-I",
    "outputId": "9910567f-19f9-44e7-8d3c-6bd5ca33368c"
   },
   "outputs": [],
   "source": [
    "# Get pv and npv\n",
    "\n",
    "import os\n",
    "\n",
    "import xarray as xr\n",
    "\n",
    "pv_data_path = os.path.join(data_dir, pv_file_name)\n",
    "pv_ds = xr.open_dataset(pv_data_path)\n",
    "pv_ds\n",
    "\n",
    "npv_data_path = os.path.join(data_dir, npv_file_name)\n",
    "npv_ds = xr.open_dataset(npv_data_path)\n",
    "npv_ds\n",
    "\n",
    "ue_data_path = os.path.join(data_dir, ue_file_name)\n",
    "ue_ds = xr.open_dataset(ue_data_path)\n",
    "ue_ds"
   ]
  },
  {
   "cell_type": "code",
   "execution_count": null,
   "metadata": {
    "id": "2_5UdgrJYNL7"
   },
   "outputs": [],
   "source": [
    "# Select 4 sites\n",
    "# site_ids = [70, 140, 189, 302]\n",
    "# x = [150.2675, 150.2155, 150.246, 150.3096]\n",
    "# y = [-35.5448, -35.65861, -35.574, -35.46728]\n",
    "\n",
    "# Sites with all-NaN clound filtered veg_cover\n",
    "site_ids = [92, 149, 74, 284]\n",
    "x = [150.2832, 150.2046, 150.3074, 150.3117]\n",
    "y = [-35.44538, -35.67172, -35.48049, -35.4767]"
   ]
  },
  {
   "cell_type": "code",
   "execution_count": null,
   "metadata": {
    "id": "GDPZ1pmzZC98"
   },
   "outputs": [],
   "source": [
    "# Get dea_x and dea_y of those sites\n",
    "\n",
    "from pyproj import Transformer\n",
    "\n",
    "transformer = Transformer.from_crs(\"EPSG:4326\", \"EPSG:32754\", always_xy=True)\n",
    "dea_x, dea_y = transformer.transform(x, y)"
   ]
  },
  {
   "cell_type": "code",
   "execution_count": null,
   "metadata": {
    "colab": {
     "base_uri": "https://localhost:8080/",
     "height": 794
    },
    "executionInfo": {
     "elapsed": 124236,
     "status": "ok",
     "timestamp": 1747959566331,
     "user": {
      "displayName": "Porntipa Poonpolsub",
      "userId": "14089782475563213772"
     },
     "user_tz": -600
    },
    "id": "6RZSMTahdekv",
    "outputId": "1b99e06c-1187-42e9-c816-fabaebccfaa3"
   },
   "outputs": [],
   "source": [
    "# Plot pv+npv of those site in one fig\n",
    "\n",
    "import math\n",
    "\n",
    "import matplotlib.pyplot as plt\n",
    "\n",
    "n = len(dea_x)\n",
    "cols = 2  # number of columns in the subplot grid\n",
    "rows = math.ceil(n / cols)\n",
    "\n",
    "fig, axes = plt.subplots(rows, cols, figsize=(10, 4 * rows), sharex=True)\n",
    "axes = axes.flatten()  # flatten in case it's a 2D array\n",
    "\n",
    "for i in range(n):\n",
    "    # Extract time series at nearest point\n",
    "    pv_point_series = pv_ds.sel(x=dea_x[i], y=dea_y[i], method='nearest')['pv']\n",
    "    npv_point_series = npv_ds.sel(x=dea_x[i], y=dea_y[i], method='nearest')['npv']\n",
    "    ue_point_series = ue_ds.sel(x=dea_x[i], y=dea_y[i], method='nearest')['ue']\n",
    "\n",
    "    # Combine PV and NPV\n",
    "    point_series = pv_point_series + npv_point_series\n",
    "\n",
    "    # Plot both series with labels\n",
    "    point_series.plot(ax=axes[i], label='PV + NPV')\n",
    "    ue_point_series.plot(ax=axes[i], label='UE')\n",
    "\n",
    "    # Customize plot\n",
    "    axes[i].set_title(f\"PV + NPV vs UE - SiteID {site_ids[i]}\")\n",
    "    axes[i].set_xlabel(\"Time\")\n",
    "    axes[i].set_ylabel(\"Value\")\n",
    "    axes[i].legend()\n",
    "\n",
    "\n",
    "# Remove unused subplots (if any)\n",
    "for j in range(n, len(axes)):\n",
    "    fig.delaxes(axes[j])\n",
    "\n",
    "plt.tight_layout()\n",
    "plt.savefig(\"pv+npv.png\", dpi=300)"
   ]
  },
  {
   "cell_type": "code",
   "execution_count": null,
   "metadata": {
    "id": "d8SVk6kqZRMb"
   },
   "outputs": [],
   "source": [
    "# Plot pv of those site in one fig\n",
    "\n",
    "import math\n",
    "\n",
    "import matplotlib.pyplot as plt\n",
    "\n",
    "n = len(dea_x)\n",
    "cols = 2  # number of columns in the subplot grid\n",
    "rows = math.ceil(n / cols)\n",
    "\n",
    "fig, axes = plt.subplots(rows, cols, figsize=(10, 4 * rows), sharex=True)\n",
    "axes = axes.flatten()  # flatten in case it's a 2D array\n",
    "\n",
    "for i in range(n):\n",
    "    point_series = pv_ds.sel(x=dea_x[i], y=dea_y[i], method='nearest')['pv']\n",
    "    point_series.plot(ax=axes[i])\n",
    "    axes[i].set_title(f\"PV layer of SiteID {site_ids[i]}\")\n",
    "    axes[i].set_xlabel(\"Time\")\n",
    "    axes[i].set_ylabel(\"PV\")\n",
    "\n",
    "# Remove unused subplots (if any)\n",
    "for j in range(n, len(axes)):\n",
    "    fig.delaxes(axes[j])\n",
    "\n",
    "plt.tight_layout()\n",
    "plt.savefig(\"pv.png\", dpi=300)"
   ]
  },
  {
   "cell_type": "code",
   "execution_count": null,
   "metadata": {
    "id": "9FHxXNcrc2rI"
   },
   "outputs": [],
   "source": [
    "# Plot npv of those site in one fig\n",
    "n = len(dea_x)\n",
    "cols = 2  # number of columns in the subplot grid\n",
    "rows = math.ceil(n / cols)\n",
    "\n",
    "fig, axes = plt.subplots(rows, cols, figsize=(10, 4 * rows), sharex=True)\n",
    "axes = axes.flatten()  # flatten in case it's a 2D array\n",
    "\n",
    "for i in range(n):\n",
    "    point_series = npv_ds.sel(x=dea_x[i], y=dea_y[i], method='nearest')['npv']\n",
    "    point_series.plot(ax=axes[i])\n",
    "    axes[i].set_title(f\"NPV layer of SiteID {site_ids[i]}\")\n",
    "    axes[i].set_xlabel(\"Time\")\n",
    "    axes[i].set_ylabel(\"NPV\")\n",
    "\n",
    "# Remove unused subplots (if any)\n",
    "for j in range(n, len(axes)):\n",
    "    fig.delaxes(axes[j])\n",
    "\n",
    "plt.tight_layout()\n",
    "plt.savefig(\"npv.png\", dpi=300)"
   ]
  },
  {
   "cell_type": "markdown",
   "metadata": {
    "id": "D-41KZGHc0on"
   },
   "source": [
    "# Notes"
   ]
  },
  {
   "cell_type": "code",
   "execution_count": null,
   "metadata": {
    "id": "NP_gWtU7RV6z"
   },
   "outputs": [],
   "source": [
    "# Investigate change in vegetation cover.\n",
    "from pyproj import Transformer\n",
    "\n",
    "transformer = Transformer.from_crs(\"EPSG:4326\", \"EPSG:32754\", always_xy=True)\n",
    "# dea_x, dea_y = transformer.transform(150.3096, -35.46728)\n",
    "df['dea_x'], df['dea_y'] = transformer.transform(df['X'].values, df['Y'].values)\n",
    "point_series = pv_ds.sel(x=dea_x, y=dea_y, method='nearest')['pv']\n",
    "print(point_series.values)\n",
    "\n",
    "# visualise the point_series\n",
    "point_series.plot()\n",
    "plt.title(\"Vegetation cover of site 302\")\n",
    "plt.show()"
   ]
  }
 ],
 "metadata": {
  "colab": {
   "authorship_tag": "ABX9TyO+JFWXVDIlBluPQq8Sxai6",
   "provenance": [],
   "toc_visible": true
  },
  "kernelspec": {
   "display_name": "Python 3",
   "name": "python3"
  },
  "language_info": {
   "name": "python"
  }
 },
 "nbformat": 4,
 "nbformat_minor": 0
}
